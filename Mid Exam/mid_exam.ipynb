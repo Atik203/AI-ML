{
 "cells": [
  {
   "cell_type": "code",
   "execution_count": null,
   "id": "a0851ab5",
   "metadata": {},
   "outputs": [
    {
     "name": "stdout",
     "output_type": "stream",
     "text": [
      "Sample Data Created and Saved as employees.csv\n"
     ]
    }
   ],
   "source": [
    "import numpy as np\n",
    "import pandas as pd\n",
    "\n",
    "np.random.seed(42)\n",
    "ids = np.arange(1, 11)\n",
    "ages = np.random.randint(18, 60, 10)\n",
    "salaries = np.random.randint(30000, 90000, 10)\n",
    "departments = np.array(\n",
    "    [\"HR\", \"IT\", \"Finance\", \"IT\", \"HR\", \"Sales\", \"Finance\", \"IT\", \"Sales\", \"HR\"]\n",
    ")\n",
    "\n",
    "DF = pd.DataFrame({\"id\": ids, \"age\": ages, \"salary\": salaries, \"dept\": departments})\n",
    "\n",
    "DF.to_csv(\"employees.csv\", index=False)\n",
    "print(\"Sample Data Created and Saved as employees.csv\")"
   ]
  },
  {
   "cell_type": "markdown",
   "id": "013297b0",
   "metadata": {},
   "source": [
    "### Q1. Create NumPy arrays from the ages and salaries data generated above. Print both arrays and display their dtype, ndim, shape, and size.\n"
   ]
  },
  {
   "cell_type": "code",
   "execution_count": null,
   "id": "2f3ade4c",
   "metadata": {},
   "outputs": [],
   "source": []
  },
  {
   "cell_type": "markdown",
   "id": "adb8c85a",
   "metadata": {},
   "source": [
    "### Q2. Using the salaries array, find and print the highest and lowest salary values. Also, calculate and print the average salary and age using NumPy functions."
   ]
  },
  {
   "cell_type": "code",
   "execution_count": null,
   "id": "5582cc7e",
   "metadata": {},
   "outputs": [],
   "source": []
  },
  {
   "cell_type": "markdown",
   "id": "245ee610",
   "metadata": {},
   "source": [
    "### Q3. From the ages array, filter and print all ages greater than 30 using a boolean condition. Then count and print how many employees are older than 30."
   ]
  },
  {
   "cell_type": "code",
   "execution_count": null,
   "id": "f10b6251",
   "metadata": {},
   "outputs": [],
   "source": []
  },
  {
   "cell_type": "markdown",
   "id": "6e133da8",
   "metadata": {},
   "source": [
    "### Q4. Create a new NumPy array that increases every employee’s age by 5 years (without modifying the original array). Print the new updated ages array."
   ]
  },
  {
   "cell_type": "code",
   "execution_count": null,
   "id": "6fc6e1ee",
   "metadata": {},
   "outputs": [],
   "source": []
  },
  {
   "cell_type": "markdown",
   "id": "862a5411",
   "metadata": {},
   "source": [
    "\n",
    "### Q5. Using NumPy, calculate the total salary expense (sum of all salaries) and the difference between the maximum and minimum salary. Print both results."
   ]
  },
  {
   "cell_type": "code",
   "execution_count": null,
   "id": "10f37b51",
   "metadata": {},
   "outputs": [],
   "source": []
  },
  {
   "cell_type": "markdown",
   "id": "4d1e860d",
   "metadata": {},
   "source": [
    "### Q6. Load the employees.csv file into a Pandas DataFrame. Display the first 5 rows, and check basic info using info() and summary statistics using describe()."
   ]
  },
  {
   "cell_type": "code",
   "execution_count": null,
   "id": "fec092b7",
   "metadata": {},
   "outputs": [],
   "source": []
  },
  {
   "cell_type": "markdown",
   "id": "2afc5a56",
   "metadata": {},
   "source": [
    "### Q7. Display only the id, age, and salary columns. Then show the last 3 rows using tail()."
   ]
  },
  {
   "cell_type": "code",
   "execution_count": null,
   "id": "8c5bbd93",
   "metadata": {},
   "outputs": [],
   "source": []
  },
  {
   "cell_type": "markdown",
   "id": "a0093f61",
   "metadata": {},
   "source": [
    "### Q8. Filter the DataFrame to show only employees who work in the IT department. Print the result and show the total number of IT employees."
   ]
  },
  {
   "cell_type": "code",
   "execution_count": null,
   "id": "453aeacf",
   "metadata": {},
   "outputs": [],
   "source": []
  },
  {
   "cell_type": "markdown",
   "id": "ea82fecc",
   "metadata": {},
   "source": [
    "### Q9. Sort the DataFrame by salary in descending order and display the top 3 highest-paid employees along with their department and age."
   ]
  },
  {
   "cell_type": "code",
   "execution_count": null,
   "id": "8195b16f",
   "metadata": {},
   "outputs": [],
   "source": []
  },
  {
   "cell_type": "markdown",
   "id": "67b42f84",
   "metadata": {},
   "source": [
    "### Q10. Replace all salary values greater than 80000 with 80000 using loc. Then calculate and print the new average salary of all employees after replacement."
   ]
  },
  {
   "cell_type": "code",
   "execution_count": null,
   "id": "064875f1",
   "metadata": {},
   "outputs": [],
   "source": []
  }
 ],
 "metadata": {
  "kernelspec": {
   "display_name": "base",
   "language": "python",
   "name": "python3"
  },
  "language_info": {
   "codemirror_mode": {
    "name": "ipython",
    "version": 3
   },
   "file_extension": ".py",
   "mimetype": "text/x-python",
   "name": "python",
   "nbconvert_exporter": "python",
   "pygments_lexer": "ipython3",
   "version": "3.12.7"
  }
 },
 "nbformat": 4,
 "nbformat_minor": 5
}
