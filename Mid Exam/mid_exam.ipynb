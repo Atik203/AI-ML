{
 "cells": [
  {
   "cell_type": "code",
   "execution_count": 34,
   "id": "a0851ab5",
   "metadata": {},
   "outputs": [
    {
     "name": "stdout",
     "output_type": "stream",
     "text": [
      "Sample Data Created and Saved as employees.csv\n"
     ]
    }
   ],
   "source": [
    "import numpy as np\n",
    "import pandas as pd\n",
    "\n",
    "np.random.seed(42)\n",
    "ids = np.arange(1, 11)\n",
    "ages = np.random.randint(18, 60, 10)\n",
    "salaries = np.random.randint(30000, 90000, 10)\n",
    "departments = np.array(\n",
    "    [\"HR\", \"IT\", \"Finance\", \"IT\", \"HR\", \"Sales\", \"Finance\", \"IT\", \"Sales\", \"HR\"]\n",
    ")\n",
    "\n",
    "DF = pd.DataFrame({\"id\": ids, \"age\": ages, \"salary\": salaries, \"dept\": departments})\n",
    "\n",
    "DF.to_csv(\"employees.csv\", index=False)\n",
    "print(\"Sample Data Created and Saved as employees.csv\")"
   ]
  },
  {
   "cell_type": "markdown",
   "id": "013297b0",
   "metadata": {},
   "source": [
    "### Q1. Create NumPy arrays from the ages and salaries data generated above. Print both arrays and display their dtype, ndim, shape, and size.\n"
   ]
  },
  {
   "cell_type": "code",
   "execution_count": 35,
   "id": "2f3ade4c",
   "metadata": {},
   "outputs": [
    {
     "name": "stdout",
     "output_type": "stream",
     "text": [
      "Ages: [56 46 32 25 38 56 36 40 28 28]\n",
      "Salaries: [77191 74131 46023 71090 31685 30769 89735 86101 32433 35311]\n",
      "Ages dtype: int32\n",
      "Salaries dtype: int32\n",
      "Ages size: 10\n",
      "Salaries size: 10\n"
     ]
    }
   ],
   "source": [
    "ages_array = np.array(ages)\n",
    "salaries_array = np.array(salaries)\n",
    "print(\"Ages:\", ages_array)\n",
    "print(\"Salaries:\", salaries_array)\n",
    "\n",
    "print('Ages dtype:', ages_array.dtype)\n",
    "print('Salaries dtype:', salaries_array.dtype)\n",
    "\n",
    "print('Ages size:', ages_array.size)\n",
    "print('Salaries size:', salaries_array.size)\n"
   ]
  },
  {
   "cell_type": "markdown",
   "id": "adb8c85a",
   "metadata": {},
   "source": [
    "### Q2. Using the salaries array, find and print the highest and lowest salary values. Also, calculate and print the average salary and age using NumPy functions."
   ]
  },
  {
   "cell_type": "code",
   "execution_count": 36,
   "id": "5582cc7e",
   "metadata": {},
   "outputs": [
    {
     "name": "stdout",
     "output_type": "stream",
     "text": [
      "Highest Salary: 89735\n",
      "Lowest Salary: 30769\n",
      "Average Salary: 57446.9\n",
      "Average Age: 38.5\n"
     ]
    }
   ],
   "source": [
    "highest_salary = np.max(salaries_array)\n",
    "lowest_salary = np.min(salaries_array)\n",
    "\n",
    "avg_salary = np.mean(salaries_array)\n",
    "avg_age = np.mean(ages_array)\n",
    "\n",
    "print(\"Highest Salary:\", highest_salary)\n",
    "print(\"Lowest Salary:\", lowest_salary)\n",
    "print(\"Average Salary:\", avg_salary)\n",
    "print(\"Average Age:\", avg_age)"
   ]
  },
  {
   "cell_type": "markdown",
   "id": "245ee610",
   "metadata": {},
   "source": [
    "### Q3. From the ages array, filter and print all ages greater than 30 using a boolean condition. Then count and print how many employees are older than 30."
   ]
  },
  {
   "cell_type": "code",
   "execution_count": 37,
   "id": "f10b6251",
   "metadata": {},
   "outputs": [
    {
     "name": "stdout",
     "output_type": "stream",
     "text": [
      "Ages greater than 30: [56 46 32 38 56 36 40]\n",
      "Number of employees older than 30: 7\n"
     ]
    }
   ],
   "source": [
    "ages_gt_30 = ages_array[ages_array > 30]\n",
    "print(\"Ages greater than 30:\", ages_gt_30)\n",
    "\n",
    "count_gt_30 = np.sum(ages_array > 30)\n",
    "print(\"Number of employees older than 30:\", count_gt_30)"
   ]
  },
  {
   "cell_type": "markdown",
   "id": "6e133da8",
   "metadata": {},
   "source": [
    "### Q4. Create a new NumPy array that increases every employee’s age by 5 years (without modifying the original array). Print the new updated ages array."
   ]
  },
  {
   "cell_type": "code",
   "execution_count": 38,
   "id": "6fc6e1ee",
   "metadata": {},
   "outputs": [
    {
     "name": "stdout",
     "output_type": "stream",
     "text": [
      "Original ages: [56 46 32 25 38 56 36 40 28 28]\n",
      "Updated ages: [61 51 37 30 43 61 41 45 33 33]\n"
     ]
    }
   ],
   "source": [
    "updated_ages = ages_array + 5\n",
    "print(\"Original ages:\", ages_array)\n",
    "print(\"Updated ages:\", updated_ages)"
   ]
  },
  {
   "cell_type": "markdown",
   "id": "862a5411",
   "metadata": {},
   "source": [
    "\n",
    "### Q5. Using NumPy, calculate the total salary expense (sum of all salaries) and the difference between the maximum and minimum salary. Print both results."
   ]
  },
  {
   "cell_type": "code",
   "execution_count": 39,
   "id": "10f37b51",
   "metadata": {},
   "outputs": [
    {
     "name": "stdout",
     "output_type": "stream",
     "text": [
      "Total Salary: 574469\n",
      "Difference: 58966\n"
     ]
    }
   ],
   "source": [
    "total_salary = np.sum(salaries_array)\n",
    "salary_difference = np.max(salaries_array) - np.min(salaries_array)\n",
    "\n",
    "print(\"Total Salary:\", total_salary)\n",
    "print(\"Difference:\", salary_difference)"
   ]
  },
  {
   "cell_type": "markdown",
   "id": "4d1e860d",
   "metadata": {},
   "source": [
    "### Q6. Load the employees.csv file into a Pandas DataFrame. Display the first 5 rows, and check basic info using info() and summary statistics using describe()."
   ]
  },
  {
   "cell_type": "code",
   "execution_count": 40,
   "id": "fec092b7",
   "metadata": {},
   "outputs": [
    {
     "name": "stdout",
     "output_type": "stream",
     "text": [
      "First 5 rows:\n",
      "   id  age  salary     dept\n",
      "0   1   56   77191       HR\n",
      "1   2   46   74131       IT\n",
      "2   3   32   46023  Finance\n",
      "3   4   25   71090       IT\n",
      "4   5   38   31685       HR\n",
      "\n",
      "DataFrame Info:\n",
      "<class 'pandas.core.frame.DataFrame'>\n",
      "RangeIndex: 10 entries, 0 to 9\n",
      "Data columns (total 4 columns):\n",
      " #   Column  Non-Null Count  Dtype \n",
      "---  ------  --------------  ----- \n",
      " 0   id      10 non-null     int64 \n",
      " 1   age     10 non-null     int64 \n",
      " 2   salary  10 non-null     int64 \n",
      " 3   dept    10 non-null     object\n",
      "dtypes: int64(3), object(1)\n",
      "memory usage: 452.0+ bytes\n",
      "\n",
      "Summary Statistics:\n",
      "             id       age        salary\n",
      "count  10.00000  10.00000     10.000000\n",
      "mean    5.50000  38.50000  57446.900000\n",
      "std     3.02765  11.16791  24357.262884\n",
      "min     1.00000  25.00000  30769.000000\n",
      "25%     3.25000  29.00000  33152.500000\n",
      "50%     5.50000  37.00000  58556.500000\n",
      "75%     7.75000  44.50000  76426.000000\n",
      "max    10.00000  56.00000  89735.000000\n"
     ]
    }
   ],
   "source": [
    "df = pd.read_csv(\"employees.csv\")\n",
    "\n",
    "print(\"First 5 rows:\")\n",
    "print(df.head())\n",
    "\n",
    "print(\"\\nDataFrame Info:\")\n",
    "df.info()\n",
    "\n",
    "print(\"\\nSummary Statistics:\")\n",
    "print(df.describe())"
   ]
  },
  {
   "cell_type": "markdown",
   "id": "2afc5a56",
   "metadata": {},
   "source": [
    "### Q7. Display only the id, age, and salary columns. Then show the last 3 rows using tail()."
   ]
  },
  {
   "cell_type": "code",
   "execution_count": 41,
   "id": "8c5bbd93",
   "metadata": {},
   "outputs": [
    {
     "name": "stdout",
     "output_type": "stream",
     "text": [
      "   id  age  salary\n",
      "0   1   56   77191\n",
      "1   2   46   74131\n",
      "2   3   32   46023\n",
      "3   4   25   71090\n",
      "4   5   38   31685\n",
      "5   6   56   30769\n",
      "6   7   36   89735\n",
      "7   8   40   86101\n",
      "8   9   28   32433\n",
      "9  10   28   35311\n",
      "\n",
      "Last 3 rows:\n",
      "   id  age  salary   dept\n",
      "7   8   40   86101     IT\n",
      "8   9   28   32433  Sales\n",
      "9  10   28   35311     HR\n"
     ]
    }
   ],
   "source": [
    "print(df[[\"id\", \"age\", \"salary\"]])\n",
    "\n",
    "print(\"\\nLast 3 rows:\")\n",
    "print(df.tail(3))"
   ]
  },
  {
   "cell_type": "markdown",
   "id": "a0093f61",
   "metadata": {},
   "source": [
    "### Q8. Filter the DataFrame to show only employees who work in the IT department. Print the result and show the total number of IT employees."
   ]
  },
  {
   "cell_type": "code",
   "execution_count": 42,
   "id": "453aeacf",
   "metadata": {},
   "outputs": [
    {
     "name": "stdout",
     "output_type": "stream",
     "text": [
      "IT Department Employees:\n",
      "   id  age  salary dept\n",
      "1   2   46   74131   IT\n",
      "3   4   25   71090   IT\n",
      "7   8   40   86101   IT\n",
      "\n",
      "Total IT Employees: 3\n"
     ]
    }
   ],
   "source": [
    "it_employees = df[df[\"dept\"] == \"IT\"]\n",
    "print(\"IT Department Employees:\")\n",
    "print(it_employees)\n",
    "\n",
    "total_it_employees = len(it_employees)\n",
    "print(\"\\nTotal IT Employees:\", total_it_employees)"
   ]
  },
  {
   "cell_type": "markdown",
   "id": "ea82fecc",
   "metadata": {},
   "source": [
    "### Q9. Sort the DataFrame by salary in descending order and display the top 3 highest-paid employees along with their department and age."
   ]
  },
  {
   "cell_type": "code",
   "execution_count": null,
   "id": "8195b16f",
   "metadata": {},
   "outputs": [
    {
     "name": "stdout",
     "output_type": "stream",
     "text": [
      "Top 3 Highest-Paid Employees:\n",
      "   id  age  salary     dept\n",
      "6   7   36   89735  Finance\n",
      "7   8   40   86101       IT\n",
      "0   1   56   77191       HR\n"
     ]
    }
   ],
   "source": [
    "sorted_df = df.sort_values(by=\"salary\", ascending=False)\n",
    "top_3_highest = sorted_df.head(3)\n",
    "\n",
    "print(\"Top 3 Highest-Paid Employees:\")\n",
    "print(top_3_highest)"
   ]
  },
  {
   "cell_type": "markdown",
   "id": "67b42f84",
   "metadata": {},
   "source": [
    "### Q10. Replace all salary values greater than 80000 with 80000 using loc. Then calculate and print the new average salary of all employees after replacement."
   ]
  },
  {
   "cell_type": "code",
   "execution_count": null,
   "id": "064875f1",
   "metadata": {},
   "outputs": [
    {
     "name": "stdout",
     "output_type": "stream",
     "text": [
      "   id  age  salary     dept\n",
      "0   1   56   77191       HR\n",
      "1   2   46   74131       IT\n",
      "2   3   32   46023  Finance\n",
      "3   4   25   71090       IT\n",
      "4   5   38   31685       HR\n",
      "5   6   56   30769    Sales\n",
      "6   7   36   80000  Finance\n",
      "7   8   40   80000       IT\n",
      "8   9   28   32433    Sales\n",
      "9  10   28   35311       HR\n",
      "\n",
      "New average salary after replacement: 55863.3\n"
     ]
    }
   ],
   "source": [
    "df.loc[df[\"salary\"] > 80000, \"salary\"] = 80000\n",
    "\n",
    "new_avg_salary = df[\"salary\"].mean()\n",
    "\n",
    "print(df)\n",
    "\n",
    "print(\"\\nNew average salary:\", new_avg_salary)"
   ]
  }
 ],
 "metadata": {
  "kernelspec": {
   "display_name": "base",
   "language": "python",
   "name": "python3"
  },
  "language_info": {
   "codemirror_mode": {
    "name": "ipython",
    "version": 3
   },
   "file_extension": ".py",
   "mimetype": "text/x-python",
   "name": "python",
   "nbconvert_exporter": "python",
   "pygments_lexer": "ipython3",
   "version": "3.12.7"
  }
 },
 "nbformat": 4,
 "nbformat_minor": 5
}
