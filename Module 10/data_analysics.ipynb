{
 "cells": [
  {
   "cell_type": "code",
   "execution_count": 2,
   "id": "cbc0b5eb",
   "metadata": {},
   "outputs": [
    {
     "name": "stdout",
     "output_type": "stream",
     "text": [
      "<class 'numpy.ndarray'>\n",
      "[1 2 3 4 5]\n"
     ]
    }
   ],
   "source": [
    "import numpy as np\n",
    "\n",
    "# 1d array\n",
    "array_1d = np.array([1, 2, 3, 4, 5])\n",
    "print(type(array_1d))  # Output: <class 'numpy.ndarray'>\n",
    "print(array_1d)        # Output: [1 2 3 4 5]"
   ]
  },
  {
   "cell_type": "code",
   "execution_count": 3,
   "id": "a19f3043",
   "metadata": {},
   "outputs": [
    {
     "name": "stdout",
     "output_type": "stream",
     "text": [
      "2\n",
      "[[1 2 3]\n",
      " [4 5 6]]\n"
     ]
    }
   ],
   "source": [
    "# 2d array\n",
    "array_2d = np.array([[1, 2, 3], [4, 5, 6]])\n",
    "print(array_2d.ndim)  # Output: 2\n",
    "print(array_2d)        # Output: [[1 2 3]\n",
    "                       #          [4 5 6]]\n"
   ]
  },
  {
   "cell_type": "code",
   "execution_count": 7,
   "id": "81ddeb84",
   "metadata": {},
   "outputs": [
    {
     "name": "stdout",
     "output_type": "stream",
     "text": [
      "3\n",
      "[[[1 2]\n",
      "  [3 4]]\n",
      "\n",
      " [[5 6]\n",
      "  [7 8]]]\n"
     ]
    },
    {
     "data": {
      "text/plain": [
       "dtype('int32')"
      ]
     },
     "execution_count": 7,
     "metadata": {},
     "output_type": "execute_result"
    }
   ],
   "source": [
    "# 3d array\n",
    "array_3d = np.array([[[1, 2], [3, 4]], [[5, 6], [7, 8]]])\n",
    "print(array_3d.ndim)  # Output: 3\n",
    "print(array_3d)        # Output: [[[1 2]\n",
    "                       #           [3 4]]\n",
    "                       #\n",
    "                       #          [[5 6]\n",
    "                       #           [7 8]]]\n",
    "                       \n",
    "array_3d.shape  # Output: (2, 2, 2)\n",
    "array_3d.size   # Output: 8\n",
    "array_3d.dtype  # Output: dtype('int64') or dtype('int32') \n",
    "                       "
   ]
  },
  {
   "cell_type": "code",
   "execution_count": 8,
   "id": "30d308df",
   "metadata": {},
   "outputs": [
    {
     "name": "stdout",
     "output_type": "stream",
     "text": [
      "float64\n",
      "[1.  2.5 3. ]\n"
     ]
    }
   ],
   "source": [
    "# upcasting example\n",
    "array_mixed = np.array([1, 2.5, 3])\n",
    "print(array_mixed.dtype)  # Output: dtype('float64')\n",
    "print(array_mixed)        # Output: [1.  2.5 3.]"
   ]
  },
  {
   "cell_type": "code",
   "execution_count": 9,
   "id": "eec6f089",
   "metadata": {},
   "outputs": [
    {
     "name": "stdout",
     "output_type": "stream",
     "text": [
      "<U6\n"
     ]
    }
   ],
   "source": [
    "# string in numpy \n",
    "array_str = np.array(['apple', 'banana', 'cherry'])\n",
    "print(array_str.dtype)  # Output: dtype('<U6')"
   ]
  }
 ],
 "metadata": {
  "kernelspec": {
   "display_name": "base",
   "language": "python",
   "name": "python3"
  },
  "language_info": {
   "codemirror_mode": {
    "name": "ipython",
    "version": 3
   },
   "file_extension": ".py",
   "mimetype": "text/x-python",
   "name": "python",
   "nbconvert_exporter": "python",
   "pygments_lexer": "ipython3",
   "version": "3.12.7"
  }
 },
 "nbformat": 4,
 "nbformat_minor": 5
}
