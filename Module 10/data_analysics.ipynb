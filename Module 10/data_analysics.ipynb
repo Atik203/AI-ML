{
 "cells": [
  {
   "cell_type": "code",
   "execution_count": 2,
   "id": "cbc0b5eb",
   "metadata": {},
   "outputs": [
    {
     "name": "stdout",
     "output_type": "stream",
     "text": [
      "<class 'numpy.ndarray'>\n",
      "[1 2 3 4 5]\n"
     ]
    }
   ],
   "source": [
    "import numpy as np\n",
    "\n",
    "# 1d array\n",
    "array_1d = np.array([1, 2, 3, 4, 5])\n",
    "print(type(array_1d))  # Output: <class 'numpy.ndarray'>\n",
    "print(array_1d)        # Output: [1 2 3 4 5]"
   ]
  },
  {
   "cell_type": "code",
   "execution_count": 3,
   "id": "a19f3043",
   "metadata": {},
   "outputs": [
    {
     "name": "stdout",
     "output_type": "stream",
     "text": [
      "2\n",
      "[[1 2 3]\n",
      " [4 5 6]]\n"
     ]
    }
   ],
   "source": [
    "# 2d array\n",
    "array_2d = np.array([[1, 2, 3], [4, 5, 6]])\n",
    "print(array_2d.ndim)  # Output: 2\n",
    "print(array_2d)        # Output: [[1 2 3]\n",
    "                       #          [4 5 6]]\n"
   ]
  },
  {
   "cell_type": "code",
   "execution_count": 4,
   "id": "81ddeb84",
   "metadata": {},
   "outputs": [
    {
     "name": "stdout",
     "output_type": "stream",
     "text": [
      "3\n",
      "[[[1 2]\n",
      "  [3 4]]\n",
      "\n",
      " [[5 6]\n",
      "  [7 8]]]\n"
     ]
    },
    {
     "data": {
      "text/plain": [
       "dtype('int32')"
      ]
     },
     "execution_count": 4,
     "metadata": {},
     "output_type": "execute_result"
    }
   ],
   "source": [
    "# 3d array\n",
    "array_3d = np.array([[[1, 2], [3, 4]], [[5, 6], [7, 8]]])\n",
    "print(array_3d.ndim)  # Output: 3\n",
    "print(array_3d)        # Output: [[[1 2]\n",
    "                       #           [3 4]]\n",
    "                       #\n",
    "                       #          [[5 6]\n",
    "                       #           [7 8]]]\n",
    "                       \n",
    "array_3d.shape  # Output: (2, 2, 2)\n",
    "array_3d.size   # Output: 8\n",
    "array_3d.dtype  # Output: dtype('int64') or dtype('int32') \n",
    "                       "
   ]
  },
  {
   "cell_type": "code",
   "execution_count": 5,
   "id": "30d308df",
   "metadata": {},
   "outputs": [
    {
     "name": "stdout",
     "output_type": "stream",
     "text": [
      "float64\n",
      "[1.  2.5 3. ]\n"
     ]
    }
   ],
   "source": [
    "# upcasting example\n",
    "array_mixed = np.array([1, 2.5, 3])\n",
    "print(array_mixed.dtype)  # Output: dtype('float64')\n",
    "print(array_mixed)        # Output: [1.  2.5 3.]"
   ]
  },
  {
   "cell_type": "code",
   "execution_count": 6,
   "id": "eec6f089",
   "metadata": {},
   "outputs": [
    {
     "name": "stdout",
     "output_type": "stream",
     "text": [
      "<U6\n"
     ]
    }
   ],
   "source": [
    "# string in numpy \n",
    "array_str = np.array(['apple', 'banana', 'cherry'])\n",
    "print(array_str.dtype)  # Output: dtype('<U6')"
   ]
  },
  {
   "cell_type": "code",
   "execution_count": 7,
   "id": "f3273832",
   "metadata": {},
   "outputs": [
    {
     "name": "stdout",
     "output_type": "stream",
     "text": [
      "[10 20 30 40 50]\n"
     ]
    }
   ],
   "source": [
    "# list \n",
    "list_data = [10, 20, 30, 40, 50]\n",
    "array_from_list = np.array(list_data)\n",
    "print(array_from_list)  # Output: [10 20 30 40 50"
   ]
  },
  {
   "cell_type": "code",
   "execution_count": 8,
   "id": "a9585706",
   "metadata": {},
   "outputs": [
    {
     "name": "stdout",
     "output_type": "stream",
     "text": [
      "[100 200 300]\n"
     ]
    }
   ],
   "source": [
    "# tuple\n",
    "tuple_data = (100, 200, 300)\n",
    "array_from_tuple = np.array(tuple_data)\n",
    "print(array_from_tuple)  # Output: [100 200 300]\n"
   ]
  },
  {
   "cell_type": "code",
   "execution_count": 9,
   "id": "4e4bcb6e",
   "metadata": {},
   "outputs": [
    {
     "name": "stdout",
     "output_type": "stream",
     "text": [
      "{8, 9, 7}\n"
     ]
    }
   ],
   "source": [
    "# set \n",
    "set_data = {7, 8, 9}\n",
    "array_from_set = np.array(set_data)\n",
    "print(array_from_set)  # Output: [7 8 9] (order may vary)\n"
   ]
  },
  {
   "cell_type": "code",
   "execution_count": 10,
   "id": "6a2e9115",
   "metadata": {},
   "outputs": [
    {
     "name": "stdout",
     "output_type": "stream",
     "text": [
      "[1 2 3]\n"
     ]
    }
   ],
   "source": [
    "# dictionary\n",
    "dict_data = {'a': 1, 'b': 2, 'c': 3}\n",
    "array_from_dict = np.array(list(dict_data.values()))\n",
    "print(array_from_dict)  # Output: [1 2 3]"
   ]
  },
  {
   "cell_type": "code",
   "execution_count": 13,
   "id": "6431ebf4",
   "metadata": {},
   "outputs": [
    {
     "name": "stdout",
     "output_type": "stream",
     "text": [
      "[[0. 0. 0.]\n",
      " [0. 0. 0.]]\n",
      "[[1. 1.]\n",
      " [1. 1.]\n",
      " [1. 1.]]\n",
      "[[7 7]\n",
      " [7 7]]\n",
      "[[0.30147017 0.62990083 0.47127526]\n",
      " [0.98284035 0.13567289 0.76340043]]\n",
      "[[9.15413568 5.45852475]\n",
      " [8.25045901 7.76931639]]\n"
     ]
    }
   ],
   "source": [
    "\n",
    "array_zeros = np.zeros((2, 3))\n",
    "print(array_zeros)  # Output: [[0. 0. 0.]\n",
    "\n",
    "array_ones = np.ones((3, 2))\n",
    "print(array_ones)   # Output: [[1. 1.]\n",
    "\n",
    "array_full = np.full((2, 2), 7)\n",
    "print(array_full)   \n",
    "\n",
    "array_random = np.random.rand(2, 3)\n",
    "print(array_random)  # Output: Random values between 0 and 1\n",
    "\n",
    "array_uniform = np.random.uniform(5, 10, (2, 2))\n",
    "print(array_uniform)  # Output: Random values between 5 and 10"
   ]
  },
  {
   "cell_type": "code",
   "execution_count": 18,
   "id": "3de7b7e2",
   "metadata": {},
   "outputs": [
    {
     "name": "stdout",
     "output_type": "stream",
     "text": [
      "[ 1.  2.  3.  4.  5.  6.  7.  8.  9. 10.]\n",
      "[2. 4. 8.]\n"
     ]
    }
   ],
   "source": [
    "array_linspace = np.linspace(1, 10, 10) # start, stop, num\n",
    "print(array_linspace)  # Output: [ 1.  2.  3.  4.  5.  6.  7.  8.  9. 10.]\n",
    "\n",
    "array_logspace = np.logspace(1, 3, 3,base =2) # start, stop, num\n",
    "print(array_logspace)  # Output: [  2.  4.  8.]"
   ]
  }
 ],
 "metadata": {
  "kernelspec": {
   "display_name": "base",
   "language": "python",
   "name": "python3"
  },
  "language_info": {
   "codemirror_mode": {
    "name": "ipython",
    "version": 3
   },
   "file_extension": ".py",
   "mimetype": "text/x-python",
   "name": "python",
   "nbconvert_exporter": "python",
   "pygments_lexer": "ipython3",
   "version": "3.12.7"
  }
 },
 "nbformat": 4,
 "nbformat_minor": 5
}
