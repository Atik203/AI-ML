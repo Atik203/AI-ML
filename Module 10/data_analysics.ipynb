{
 "cells": [
  {
   "cell_type": "code",
   "execution_count": 24,
   "id": "cbc0b5eb",
   "metadata": {},
   "outputs": [
    {
     "name": "stdout",
     "output_type": "stream",
     "text": [
      "<class 'numpy.ndarray'>\n",
      "[1 2 3 4 5]\n"
     ]
    }
   ],
   "source": [
    "import numpy as np\n",
    "\n",
    "# 1d array\n",
    "array_1d = np.array([1, 2, 3, 4, 5])\n",
    "print(type(array_1d))  # Output: <class 'numpy.ndarray'>\n",
    "print(array_1d)        # Output: [1 2 3 4 5]"
   ]
  },
  {
   "cell_type": "code",
   "execution_count": 25,
   "id": "a19f3043",
   "metadata": {},
   "outputs": [
    {
     "name": "stdout",
     "output_type": "stream",
     "text": [
      "2\n",
      "[[1 2 3]\n",
      " [4 5 6]]\n"
     ]
    }
   ],
   "source": [
    "# 2d array\n",
    "array_2d = np.array([[1, 2, 3], [4, 5, 6]])\n",
    "print(array_2d.ndim)  # Output: 2\n",
    "print(array_2d)        # Output: [[1 2 3]\n",
    "                       #          [4 5 6]]\n"
   ]
  },
  {
   "cell_type": "code",
   "execution_count": 26,
   "id": "81ddeb84",
   "metadata": {},
   "outputs": [
    {
     "name": "stdout",
     "output_type": "stream",
     "text": [
      "3\n",
      "[[[1 2]\n",
      "  [3 4]]\n",
      "\n",
      " [[5 6]\n",
      "  [7 8]]]\n"
     ]
    },
    {
     "data": {
      "text/plain": [
       "dtype('int32')"
      ]
     },
     "execution_count": 26,
     "metadata": {},
     "output_type": "execute_result"
    }
   ],
   "source": [
    "# 3d array\n",
    "array_3d = np.array([[[1, 2], [3, 4]], [[5, 6], [7, 8]]])\n",
    "print(array_3d.ndim)  # Output: 3\n",
    "print(array_3d)        # Output: [[[1 2]\n",
    "                       #           [3 4]]\n",
    "                       #\n",
    "                       #          [[5 6]\n",
    "                       #           [7 8]]]\n",
    "                       \n",
    "array_3d.shape  # Output: (2, 2, 2)\n",
    "array_3d.size   # Output: 8\n",
    "array_3d.dtype  # Output: dtype('int64') or dtype('int32') \n",
    "                       "
   ]
  },
  {
   "cell_type": "code",
   "execution_count": 27,
   "id": "30d308df",
   "metadata": {},
   "outputs": [
    {
     "name": "stdout",
     "output_type": "stream",
     "text": [
      "float64\n",
      "[1.  2.5 3. ]\n"
     ]
    }
   ],
   "source": [
    "# upcasting example\n",
    "array_mixed = np.array([1, 2.5, 3])\n",
    "print(array_mixed.dtype)  # Output: dtype('float64')\n",
    "print(array_mixed)        # Output: [1.  2.5 3.]"
   ]
  },
  {
   "cell_type": "code",
   "execution_count": 28,
   "id": "eec6f089",
   "metadata": {},
   "outputs": [
    {
     "name": "stdout",
     "output_type": "stream",
     "text": [
      "<U6\n"
     ]
    }
   ],
   "source": [
    "# string in numpy \n",
    "array_str = np.array(['apple', 'banana', 'cherry'])\n",
    "print(array_str.dtype)  # Output: dtype('<U6')"
   ]
  },
  {
   "cell_type": "code",
   "execution_count": 29,
   "id": "f3273832",
   "metadata": {},
   "outputs": [
    {
     "name": "stdout",
     "output_type": "stream",
     "text": [
      "[10 20 30 40 50]\n"
     ]
    }
   ],
   "source": [
    "# list \n",
    "list_data = [10, 20, 30, 40, 50]\n",
    "array_from_list = np.array(list_data)\n",
    "print(array_from_list)  # Output: [10 20 30 40 50"
   ]
  },
  {
   "cell_type": "code",
   "execution_count": 30,
   "id": "a9585706",
   "metadata": {},
   "outputs": [
    {
     "name": "stdout",
     "output_type": "stream",
     "text": [
      "[100 200 300]\n"
     ]
    }
   ],
   "source": [
    "# tuple\n",
    "tuple_data = (100, 200, 300)\n",
    "array_from_tuple = np.array(tuple_data)\n",
    "print(array_from_tuple)  # Output: [100 200 300]\n"
   ]
  },
  {
   "cell_type": "code",
   "execution_count": 31,
   "id": "4e4bcb6e",
   "metadata": {},
   "outputs": [
    {
     "name": "stdout",
     "output_type": "stream",
     "text": [
      "{8, 9, 7}\n"
     ]
    }
   ],
   "source": [
    "# set \n",
    "set_data = {7, 8, 9}\n",
    "array_from_set = np.array(set_data)\n",
    "print(array_from_set)  # Output: [7 8 9] (order may vary)\n"
   ]
  },
  {
   "cell_type": "code",
   "execution_count": 32,
   "id": "6a2e9115",
   "metadata": {},
   "outputs": [
    {
     "name": "stdout",
     "output_type": "stream",
     "text": [
      "[1 2 3]\n"
     ]
    }
   ],
   "source": [
    "# dictionary\n",
    "dict_data = {'a': 1, 'b': 2, 'c': 3}\n",
    "array_from_dict = np.array(list(dict_data.values()))\n",
    "print(array_from_dict)  # Output: [1 2 3]"
   ]
  },
  {
   "cell_type": "code",
   "execution_count": 33,
   "id": "6431ebf4",
   "metadata": {},
   "outputs": [
    {
     "name": "stdout",
     "output_type": "stream",
     "text": [
      "[[0. 0. 0.]\n",
      " [0. 0. 0.]]\n",
      "[[1. 1.]\n",
      " [1. 1.]\n",
      " [1. 1.]]\n",
      "[[7 7]\n",
      " [7 7]]\n",
      "[[0.27130403 0.60209236 0.26183937]\n",
      " [0.10486468 0.34522078 0.47584808]]\n",
      "[[9.08040832 8.5970764 ]\n",
      " [5.96162361 7.22811667]]\n"
     ]
    }
   ],
   "source": [
    "\n",
    "array_zeros = np.zeros((2, 3))\n",
    "print(array_zeros)  # Output: [[0. 0. 0.]\n",
    "\n",
    "array_ones = np.ones((3, 2))\n",
    "print(array_ones)   # Output: [[1. 1.]\n",
    "\n",
    "array_full = np.full((2, 2), 7)\n",
    "print(array_full)   \n",
    "\n",
    "array_random = np.random.rand(2, 3)\n",
    "print(array_random)  # Output: Random values between 0 and 1\n",
    "\n",
    "array_uniform = np.random.uniform(5, 10, (2, 2))\n",
    "print(array_uniform)  # Output: Random values between 5 and 10"
   ]
  },
  {
   "cell_type": "code",
   "execution_count": 34,
   "id": "3de7b7e2",
   "metadata": {},
   "outputs": [
    {
     "name": "stdout",
     "output_type": "stream",
     "text": [
      "[ 1.  2.  3.  4.  5.  6.  7.  8.  9. 10.]\n",
      "[2. 4. 8.]\n"
     ]
    }
   ],
   "source": [
    "array_linspace = np.linspace(1, 10, 10) # start, stop, num\n",
    "print(array_linspace)  # Output: [ 1.  2.  3.  4.  5.  6.  7.  8.  9. 10.]\n",
    "\n",
    "array_logspace = np.logspace(1, 3, 3,base =2) # start, stop, num\n",
    "print(array_logspace)  # Output: [  2.  4.  8.]"
   ]
  },
  {
   "cell_type": "code",
   "execution_count": 35,
   "id": "223eb35e",
   "metadata": {},
   "outputs": [
    {
     "name": "stdout",
     "output_type": "stream",
     "text": [
      "[[1 0 0]\n",
      " [0 2 0]\n",
      " [0 0 3]]\n",
      "[[0 1 0 0]\n",
      " [0 0 2 0]\n",
      " [0 0 0 3]\n",
      " [0 0 0 0]]\n"
     ]
    }
   ],
   "source": [
    "# matrix\n",
    "# primary diagonal\n",
    "matrix_diag = np.diag([1, 2, 3])\n",
    "print(matrix_diag)  # Output: [[1 0 0]\n",
    "\n",
    "matrix_diag_k1 = np.diag([1, 2, 3], k=1)\n",
    "print(matrix_diag_k1)  # Output: [[0 1 0 0]\n",
    "                       #          [0 0 2 0]\n",
    "                       #          [0 0 0 3]\n",
    "                       #          [0 0 0 0]]"
   ]
  },
  {
   "cell_type": "code",
   "execution_count": 36,
   "id": "5c8b56a4",
   "metadata": {},
   "outputs": [
    {
     "name": "stdout",
     "output_type": "stream",
     "text": [
      "[[1. 0. 0.]\n",
      " [0. 1. 0.]\n",
      " [0. 0. 1.]]\n"
     ]
    }
   ],
   "source": [
    "matrix_eye = np.eye(3)\n",
    "print(matrix_eye)  # Output: [[1. 0. 0.]"
   ]
  },
  {
   "cell_type": "code",
   "execution_count": 37,
   "id": "42e3911b",
   "metadata": {},
   "outputs": [
    {
     "name": "stdout",
     "output_type": "stream",
     "text": [
      "30\n",
      "[[ 8  9]\n",
      " [13 14]]\n"
     ]
    }
   ],
   "source": [
    "# indexing and slicing\n",
    "\n",
    "array_index = np.array([10, 20, 30, 40, 50])\n",
    "print(array_index[2])    # Output: 30\n",
    "\n",
    "# ndarray slicing\n",
    "array_slice = np.array([[1, 2, 3, 4, 5],\n",
    "                        [6, 7, 8, 9, 10],\n",
    "                        [11, 12, 13, 14, 15]])\n",
    "print(array_slice[1:, 2:4])  # Output: [[ 8  9]  from row 1 to end, column 2 to 3\n",
    "                             #          [13 14]]\n"
   ]
  },
  {
   "cell_type": "code",
   "execution_count": null,
   "id": "fa6a74a6",
   "metadata": {},
   "outputs": [
    {
     "name": "stdout",
     "output_type": "stream",
     "text": [
      "[20 90]\n",
      "[20 25]\n"
     ]
    }
   ],
   "source": [
    "# Advanced Indexing and Slicing\n",
    "array_adv = np.array([[10, 20, 30],\n",
    "                       [40, 50, 60],\n",
    "                       [70, 80, 90]])\n",
    "print(array_adv[[0, 2], [1, 2]])  # Output: [20 90] from (0,1) and (2,2)\n",
    "\n",
    "# Boolean Indexing\n",
    "array_bool = np.array([5, 10, 15, 20, 25])\n",
    "mask = array_bool > 15\n",
    "print(array_bool[mask])  # Output: [20 25]"
   ]
  },
  {
   "cell_type": "code",
   "execution_count": 47,
   "id": "98cf97a1",
   "metadata": {},
   "outputs": [
    {
     "name": "stdout",
     "output_type": "stream",
     "text": [
      "[1 0 0 0 5]\n"
     ]
    }
   ],
   "source": [
    "a = np.array([1,2,3,4,5])\n",
    "a[1:4] = 0\n",
    "print(a)  # Output: [1 0 0 0 5]"
   ]
  }
 ],
 "metadata": {
  "kernelspec": {
   "display_name": "base",
   "language": "python",
   "name": "python3"
  },
  "language_info": {
   "codemirror_mode": {
    "name": "ipython",
    "version": 3
   },
   "file_extension": ".py",
   "mimetype": "text/x-python",
   "name": "python",
   "nbconvert_exporter": "python",
   "pygments_lexer": "ipython3",
   "version": "3.12.7"
  }
 },
 "nbformat": 4,
 "nbformat_minor": 5
}
