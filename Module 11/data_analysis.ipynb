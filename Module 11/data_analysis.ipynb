{
 "cells": [
  {
   "cell_type": "code",
   "execution_count": 12,
   "id": "0acda72d",
   "metadata": {},
   "outputs": [
    {
     "name": "stdout",
     "output_type": "stream",
     "text": [
      "[[18  5 77 49 35]\n",
      " [35 97  1 33 62]\n",
      " [56  7 36 75 54]\n",
      " [68 49 18 66 50]\n",
      " [97 98 63 20 33]\n",
      " [30 21 74 59 74]\n",
      " [32 78 37  8 30]\n",
      " [ 6 97 12 19 80]\n",
      " [36 16 33 38 39]\n",
      " [17 67 72 94 74]]\n"
     ]
    }
   ],
   "source": [
    "import numpy as np \n",
    "\n",
    "arr = np.random.randint(1,100, size=(10,5)) # sample = 10 rows and features = 5\n",
    "print(arr)"
   ]
  },
  {
   "cell_type": "code",
   "execution_count": 13,
   "id": "38bc8c5b",
   "metadata": {},
   "outputs": [
    {
     "name": "stdout",
     "output_type": "stream",
     "text": [
      "[[18  5 77 49 35 35 97  1 33 62]\n",
      " [56  7 36 75 54 68 49 18 66 50]\n",
      " [97 98 63 20 33 30 21 74 59 74]\n",
      " [32 78 37  8 30  6 97 12 19 80]\n",
      " [36 16 33 38 39 17 67 72 94 74]]\n",
      "[18  5 77 49 35 35 97  1 33 62 56  7 36 75 54 68 49 18 66 50 97 98 63 20\n",
      " 33 30 21 74 59 74 32 78 37  8 30  6 97 12 19 80 36 16 33 38 39 17 67 72\n",
      " 94 74]\n"
     ]
    }
   ],
   "source": [
    "b = arr.reshape(5,10)\n",
    "print(b)\n",
    "\n",
    "flattened = b.flatten()\n",
    "print(flattened)"
   ]
  },
  {
   "cell_type": "code",
   "execution_count": null,
   "id": "6e6c846e",
   "metadata": {},
   "outputs": [
    {
     "name": "stdout",
     "output_type": "stream",
     "text": [
      "[18 56 97 32 36  5  7 98 78 16 77 36 63 37 33 49 75 20  8 38 35 54 33 30\n",
      " 39 35 68 30  6 17 97 49 21 97 67  1 18 74 12 72 33 66 59 19 94 62 50 74\n",
      " 80 74]\n"
     ]
    }
   ],
   "source": [
    "ravelled = b.ravel(order='F')  # order='C' for row-major, order='F' for column-major\n",
    "print(ravelled)"
   ]
  }
 ],
 "metadata": {
  "kernelspec": {
   "display_name": "base",
   "language": "python",
   "name": "python3"
  },
  "language_info": {
   "codemirror_mode": {
    "name": "ipython",
    "version": 3
   },
   "file_extension": ".py",
   "mimetype": "text/x-python",
   "name": "python",
   "nbconvert_exporter": "python",
   "pygments_lexer": "ipython3",
   "version": "3.12.7"
  }
 },
 "nbformat": 4,
 "nbformat_minor": 5
}
