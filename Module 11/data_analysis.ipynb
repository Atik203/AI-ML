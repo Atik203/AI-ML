{
 "cells": [
  {
   "cell_type": "code",
   "execution_count": 16,
   "id": "0acda72d",
   "metadata": {},
   "outputs": [
    {
     "name": "stdout",
     "output_type": "stream",
     "text": [
      "[[45 41 26 69 16]\n",
      " [13 20 21 95 12]\n",
      " [ 8 85 52 31 60]\n",
      " [77  6  1  5 36]\n",
      " [29 36 47  4 46]\n",
      " [32 83 78 12 62]\n",
      " [57 39 45  9 74]\n",
      " [38 53 59 42 52]\n",
      " [78 38 49 38 74]\n",
      " [82 89 21 54 58]]\n"
     ]
    }
   ],
   "source": [
    "import numpy as np \n",
    "\n",
    "arr = np.random.randint(1,100, size=(10,5)) # sample = 10 rows and features = 5\n",
    "print(arr)"
   ]
  },
  {
   "cell_type": "code",
   "execution_count": 17,
   "id": "38bc8c5b",
   "metadata": {},
   "outputs": [
    {
     "name": "stdout",
     "output_type": "stream",
     "text": [
      "[[45 41 26 69 16 13 20 21 95 12]\n",
      " [ 8 85 52 31 60 77  6  1  5 36]\n",
      " [29 36 47  4 46 32 83 78 12 62]\n",
      " [57 39 45  9 74 38 53 59 42 52]\n",
      " [78 38 49 38 74 82 89 21 54 58]]\n",
      "[45 41 26 69 16 13 20 21 95 12  8 85 52 31 60 77  6  1  5 36 29 36 47  4\n",
      " 46 32 83 78 12 62 57 39 45  9 74 38 53 59 42 52 78 38 49 38 74 82 89 21\n",
      " 54 58]\n"
     ]
    }
   ],
   "source": [
    "reshaped = arr.reshape(5,10)\n",
    "print(reshaped)\n",
    "\n",
    "flattened = reshaped.flatten()\n",
    "print(flattened)"
   ]
  },
  {
   "cell_type": "code",
   "execution_count": 18,
   "id": "6e6c846e",
   "metadata": {},
   "outputs": [
    {
     "name": "stdout",
     "output_type": "stream",
     "text": [
      "[45  8 29 57 78 41 85 36 39 38 26 52 47 45 49 69 31  4  9 38 16 60 46 74\n",
      " 74 13 77 32 38 82 20  6 83 53 89 21  1 78 59 21 95  5 12 42 54 12 36 62\n",
      " 52 58]\n"
     ]
    }
   ],
   "source": [
    "ravelled = reshaped.ravel(order='F')  # order='C' for row-major, order='F' for column-major\n",
    "print(ravelled)"
   ]
  },
  {
   "cell_type": "code",
   "execution_count": 21,
   "id": "db70e036",
   "metadata": {},
   "outputs": [
    {
     "name": "stdout",
     "output_type": "stream",
     "text": [
      "[[7 1 1 8]\n",
      " [2 8 3 4]\n",
      " [2 3 8 4]]\n",
      "[[1 9 1 3]\n",
      " [1 2 2 9]\n",
      " [9 4 3 8]]\n",
      "[[7 1 1 8]\n",
      " [2 8 3 4]\n",
      " [2 3 8 4]\n",
      " [1 9 1 3]\n",
      " [1 2 2 9]\n",
      " [9 4 3 8]]\n",
      "[[7 1 1 8 1 9 1 3]\n",
      " [2 8 3 4 1 2 2 9]\n",
      " [2 3 8 4 9 4 3 8]]\n"
     ]
    }
   ],
   "source": [
    "a = np.random.randint(1,10,size=(3,4))\n",
    "b = np.random.randint(1,10,size=(3,4))\n",
    "\n",
    "print(a)\n",
    "print(b)\n",
    "\n",
    "con_row = np.concatenate((a,b), axis=0)  # row-wise\n",
    "print(con_row)\n",
    "\n",
    "con_col = np.concatenate((a,b), axis=1)  # column-wise\n",
    "print(con_col)"
   ]
  }
 ],
 "metadata": {
  "kernelspec": {
   "display_name": "base",
   "language": "python",
   "name": "python3"
  },
  "language_info": {
   "codemirror_mode": {
    "name": "ipython",
    "version": 3
   },
   "file_extension": ".py",
   "mimetype": "text/x-python",
   "name": "python",
   "nbconvert_exporter": "python",
   "pygments_lexer": "ipython3",
   "version": "3.12.7"
  }
 },
 "nbformat": 4,
 "nbformat_minor": 5
}
