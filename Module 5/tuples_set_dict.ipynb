{
 "cells": [
  {
   "cell_type": "markdown",
   "metadata": {},
   "source": [
    "### Tuples\n",
    "A tuple is a collection of objects that are ordered and immutable. Tuples are defined by enclosing the elements in parentheses `()`.\n"
   ]
  },
  {
   "cell_type": "code",
   "execution_count": 1,
   "id": "e2f9224a",
   "metadata": {},
   "outputs": [
    {
     "name": "stdout",
     "output_type": "stream",
     "text": [
      "(1, 2, 3)\n",
      "1\n",
      "(1, 2, 3, 4, 5, 6)\n",
      "1\n",
      "2\n",
      "3\n",
      "[1, 2, 3]\n",
      "1\n",
      "3\n"
     ]
    }
   ],
   "source": [
    "# Tuples\n",
    "my_tuple = (1, 2, 3)\n",
    "print(my_tuple)\n",
    "\n",
    "print(my_tuple[0])  # Output: 1\n",
    "\n",
    "another_tuple = (4, 5, 6)\n",
    "combined = my_tuple + another_tuple\n",
    "print(combined)  # Output: (1, 2, 3, 4, 5, 6)\n",
    "\n",
    "# methods\n",
    "print(my_tuple.count(2))  # Output: 1\n",
    "print(my_tuple.index(3))  # Output: 2\n",
    "print(len(my_tuple))  # Output: 3\n",
    "print(sorted(my_tuple))  # Output: [1, 2, 3]\n",
    "print(min(my_tuple))  # Output: 1\n",
    "print(max(my_tuple))  # Output: 3\n"
   ]
  },
  {
   "cell_type": "markdown",
   "id": "20defe0b",
   "metadata": {},
   "source": [
    "### Sets\n",
    "A set is an unordered collection of unique elements. Sets are defined by enclosing the elements in curly braces `{}` or by using the `set()` function."
   ]
  },
  {
   "cell_type": "code",
   "execution_count": 2,
   "id": "b106f715",
   "metadata": {},
   "outputs": [
    {
     "name": "stdout",
     "output_type": "stream",
     "text": [
      "{1, 2, 3}\n",
      "{1, 2, 3, 4}\n",
      "{1, 3, 4}\n",
      "True\n",
      "3\n",
      "[1, 3, 4]\n",
      "1\n",
      "4\n",
      "{1, 3, 4, 5}\n",
      "{3, 4}\n",
      "{1}\n",
      "{1, 5}\n"
     ]
    }
   ],
   "source": [
    "# Sets\n",
    "my_set = {1, 2, 3}\n",
    "print(my_set)\n",
    "my_set.add(4)\n",
    "print(my_set)  # Output: {1, 2, 3, 4\n",
    "my_set.remove(2)\n",
    "print(my_set)  # Output: {1, 3, 4}\n",
    "print(3 in my_set)  # Output: True\n",
    "print(len(my_set))  # Output: 3\n",
    "print(sorted(my_set))  # Output: [1, 3, 4]\n",
    "print(min(my_set))  # Output: 1\n",
    "print(max(my_set))  # Output: 4\n",
    "another_set = {3, 4, 5}\n",
    "union_set = my_set.union(another_set)\n",
    "print(union_set)  # Output: {1, 3, 4, 5}\n",
    "intersection_set = my_set.intersection(another_set)\n",
    "print(intersection_set)  # Output: {3, 4}\n",
    "difference_set = my_set.difference(another_set)\n",
    "print(difference_set)  # Output: {1}\n",
    "symmetric_difference_set = my_set.symmetric_difference(another_set)\n",
    "print(symmetric_difference_set)  # Output: {1, 5}\n"
   ]
  },
  {
   "cell_type": "markdown",
   "id": "0be8e3ef",
   "metadata": {},
   "source": [
    "### Dictionaries\n",
    "A dictionary is a collection of key-value pairs that are unordered, mutable, and indexed. Dictionaries are defined by enclosing the key-value pairs in curly braces `{}`, with a colon `:` separating keys and values."
   ]
  },
  {
   "cell_type": "code",
   "execution_count": 1,
   "id": "9232c9fe",
   "metadata": {},
   "outputs": [
    {
     "name": "stdout",
     "output_type": "stream",
     "text": [
      "{'a': 1, 'b': 2, 'c': 3}\n",
      "1\n",
      "{'a': 1, 'b': 2, 'c': 3, 'd': 4}\n",
      "{'a': 1, 'b': 2, 'c': 3, 'd': 4}\n",
      "{'a': 1, 'c': 3, 'd': 4}\n",
      "True\n",
      "3\n",
      "dict_keys(['a', 'c', 'd'])\n",
      "dict_values([1, 3, 4])\n",
      "dict_items([('a', 1), ('c', 3), ('d', 4)])\n",
      "{}\n",
      "[]\n",
      "Empty\n",
      "Empty\n",
      "0\n",
      "{'x': 10, 'y': 20}\n",
      "10\n",
      "Not Found\n",
      "10\n",
      "{'y': 20}\n",
      "{0: 0, 1: 1, 2: 4, 3: 9, 4: 16}\n"
     ]
    }
   ],
   "source": [
    "# Dictionaries\n",
    "my_dict = {'a': 1, 'b': 2, 'c': 3}\n",
    "print(my_dict)  # Output: {'a': 1, 'b': 2, 'c': 3}\n",
    "print(my_dict['a'])  # Output: 1\n",
    "my_dict['d'] = 4\n",
    "print(my_dict)  # Output: {'a': 1, 'b': 2, 'c': 3}\n",
    "print(my_dict)  # Output: {'a': 1, 'b': 2, 'c': 3, 'd': 4}\n",
    "del my_dict['b']\n",
    "\n",
    "print(my_dict)  # Output: {'a': 1, 'c': 3, 'd': 4}\n",
    "print('c' in my_dict)  # Output: True\n",
    "\n",
    "print(len(my_dict))  # Output: 3\n",
    "print(my_dict.keys())  # Output: dict_keys(['a', 'c', 'd'])\n",
    "print(my_dict.values())  # Output: dict_values([1, 3, 4\n",
    "print(my_dict.items())  # Output: dict_items([('a', 1), ('c', 3), ('d', 4)])\n",
    "my_dict.clear()\n",
    "print(my_dict)  # Output: {}\n",
    "\n",
    "# methods\n",
    "print(sorted(my_dict))  # Output: []\n",
    "print(min(my_dict, default=\"Empty\"))  # Output: Empty\n",
    "print(max(my_dict, default=\"Empty\"))  # Output: Empty\n",
    "print(len(my_dict))  # Output: 0\n",
    "my_dict2 = {'x': 10, 'y': 20}\n",
    "my_dict.update(my_dict2)\n",
    "print(my_dict)  # Output: {'x': 10, 'y': 20}\n",
    "print(my_dict.get('x'))  # Output: 10\n",
    "print(my_dict.get('z', 'Not Found'))  # Output: Not Found\n",
    "print(my_dict.pop('x'))  # Output: 10\n",
    "print(my_dict)  # Output: {'y': 20}\n",
    "\n",
    "# dict comprehension\n",
    "squared_dict = {x: x**2 for x in range(5)}\n",
    "print(squared_dict)  # Output: {0: 0, 1: 1, 2: 4, 3: 9, 4: 16}\n",
    "\n",
    "# looping through a dictionary\n",
    "for key, value in squared_dict.items():\n",
    "    print(f\"{key}: {value}\")\n",
    "# Output:\n",
    "# 0: 0\n",
    "# 1: 1\n",
    "# 2: 4\n",
    "# 3: 9\n",
    "# 4: 16\n"
   ]
  }
 ],
 "metadata": {
  "kernelspec": {
   "display_name": "base",
   "language": "python",
   "name": "python3"
  },
  "language_info": {
   "codemirror_mode": {
    "name": "ipython",
    "version": 3
   },
   "file_extension": ".py",
   "mimetype": "text/x-python",
   "name": "python",
   "nbconvert_exporter": "python",
   "pygments_lexer": "ipython3",
   "version": "3.12.7"
  }
 },
 "nbformat": 4,
 "nbformat_minor": 5
}
