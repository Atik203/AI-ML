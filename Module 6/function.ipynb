{
 "cells": [
  {
   "cell_type": "code",
   "execution_count": null,
   "id": "d8f90e34",
   "metadata": {},
   "outputs": [
    {
     "name": "stdout",
     "output_type": "stream",
     "text": [
      "Hello, Alice!\n",
      "<class 'int'>\n"
     ]
    }
   ],
   "source": [
    "## Functions and Methods in Python\n",
    "\n",
    "def greet(name):\n",
    "    return f\"Hello, {name}!\"\n",
    "\n",
    "print(greet(\"Alice\"))  # Output: Hello, Alice!\n",
    "\n",
    "\n",
    "## type function\n",
    "\n",
    "def check_type(variable: any):\n",
    "    return type(variable)\n",
    "\n",
    "print(check_type(10))          # Output: <class 'int'>\n",
    "\n",
    "# *args and **kwargs\n",
    "def example_function(*args, **kwargs):\n",
    "    print(\"Positional arguments:\", args)\n",
    "    print(\"Keyword arguments:\", kwargs)\n",
    "    \n",
    "example_function(1, 2, 3, name=\"Alice\", age=30)\n",
    "# Output:    \n",
    "# Positional arguments: (1, 2, 3)\n",
    "# Keyword arguments: {'name': 'Alice', 'age': 30}\n",
    "\n",
    "# return types\n",
    "def add(a: int, b: int) -> int:\n",
    "    return a + b"
   ]
  }
 ],
 "metadata": {
  "kernelspec": {
   "display_name": "base",
   "language": "python",
   "name": "python3"
  },
  "language_info": {
   "codemirror_mode": {
    "name": "ipython",
    "version": 3
   },
   "file_extension": ".py",
   "mimetype": "text/x-python",
   "name": "python",
   "nbconvert_exporter": "python",
   "pygments_lexer": "ipython3",
   "version": "3.12.7"
  }
 },
 "nbformat": 4,
 "nbformat_minor": 5
}
