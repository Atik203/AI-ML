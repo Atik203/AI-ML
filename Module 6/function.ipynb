{
 "cells": [
  {
   "cell_type": "code",
   "execution_count": 26,
   "id": "d8f90e34",
   "metadata": {},
   "outputs": [
    {
     "name": "stdout",
     "output_type": "stream",
     "text": [
      "Hello, Alice!\n",
      "<class 'int'>\n",
      "Positional arguments: (1, 2, 3)\n",
      "Keyword arguments: {'name': 'Alice', 'age': 30}\n"
     ]
    }
   ],
   "source": [
    "## Functions and Methods in Python\n",
    "\n",
    "def greet(name):\n",
    "    return f\"Hello, {name}!\"\n",
    "\n",
    "print(greet(\"Alice\"))  # Output: Hello, Alice!\n",
    "\n",
    "\n",
    "## type function\n",
    "\n",
    "def check_type(variable: any) -> type: # type: ignore\n",
    "    return type(variable)\n",
    "\n",
    "print(check_type(10))          # Output: <class 'int'>\n",
    "\n",
    "# *args and **kwargs\n",
    "def example_function(*args, **kwargs):\n",
    "    print(\"Positional arguments:\", args)\n",
    "    print(\"Keyword arguments:\", kwargs)\n",
    "    \n",
    "example_function(1, 2, 3, name=\"Alice\", age=30)\n",
    "# Output:    \n",
    "# Positional arguments: (1, 2, 3)\n",
    "# Keyword arguments: {'name': 'Alice', 'age': 30}\n",
    "\n",
    "# return types\n",
    "def add(a: int, b: int) -> int:\n",
    "    return a + b\n",
    "\n",
    "\n",
    "        \n",
    "\n",
    "        "
   ]
  },
  {
   "cell_type": "code",
   "execution_count": 25,
   "id": "738047b8",
   "metadata": {},
   "outputs": [
    {
     "name": "stdout",
     "output_type": "stream",
     "text": [
      "1\n",
      "1\n",
      "2\n",
      "3\n",
      "4\n",
      "5\n",
      "25\n",
      "[1, 4, 9, 16, 25]\n",
      "[2, 4]\n",
      "8\n",
      "120\n"
     ]
    }
   ],
   "source": [
    "## iterators and Generators\n",
    "my_list = [1, 2, 3, 4, 5]\n",
    "iterator = iter(my_list)\n",
    "print(next(iterator))  # Output: 1\n",
    "\n",
    "# yield\n",
    "def count_up_to(max):\n",
    "    count = 1\n",
    "    while count <= max:\n",
    "        yield count\n",
    "        count += 1\n",
    "for number in count_up_to(5):\n",
    "    print(number)\n",
    "    \n",
    "# lambda functions\n",
    "square = lambda x: x * x\n",
    "print(square(5))  # Output: 25\n",
    "\n",
    "# map function\n",
    "numbers = [1, 2, 3, 4, 5]\n",
    "# Remove user-defined 'list' variable if it exists to restore built-in list()\n",
    "if 'list' in globals():\n",
    "    del list\n",
    "\n",
    "squared_numbers = list(map(lambda x: x * x, numbers))\n",
    "print(squared_numbers)  # Output: [1, 4, 9, 16, 25]\n",
    "\n",
    "# filter function\n",
    "even_numbers = list(filter(lambda x: x % 2 == 0, numbers))\n",
    "print(even_numbers)  # Output: [2, 4]  print(add(3, 5))  # Output: 8\n",
    "print(add(3, 5))  # Output: 8\n",
    "\n",
    "# reduce function\n",
    "from functools import reduce\n",
    "product = reduce(lambda x, y: x * y, numbers)   \n",
    "print(product)  # Output: 120\n",
    "\n"
   ]
  },
  {
   "cell_type": "code",
   "execution_count": null,
   "id": "1ab21a9d",
   "metadata": {},
   "outputs": [
    {
     "name": "stdout",
     "output_type": "stream",
     "text": [
      "5\n"
     ]
    }
   ],
   "source": [
    "\n"
   ]
  }
 ],
 "metadata": {
  "kernelspec": {
   "display_name": "base",
   "language": "python",
   "name": "python3"
  },
  "language_info": {
   "codemirror_mode": {
    "name": "ipython",
    "version": 3
   },
   "file_extension": ".py",
   "mimetype": "text/x-python",
   "name": "python",
   "nbconvert_exporter": "python",
   "pygments_lexer": "ipython3",
   "version": "3.12.7"
  }
 },
 "nbformat": 4,
 "nbformat_minor": 5
}
