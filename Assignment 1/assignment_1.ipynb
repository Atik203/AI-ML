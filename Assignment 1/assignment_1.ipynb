{
 "cells": [
  {
   "cell_type": "markdown",
   "id": "a8a05d40",
   "metadata": {},
   "source": [
    "Using filter() and lambda, extract even numbers from a given list.\n",
    "Input Format:\n",
    "Integers separated by space.\n",
    "Output Format:\n",
    "List of even integers.\n",
    "Example:\n",
    "Input: 5 6 7 8 9 10  \n",
    "Output: [6, 8, 10]\n"
   ]
  },
  {
   "cell_type": "code",
   "execution_count": null,
   "id": "ff1e4d48",
   "metadata": {},
   "outputs": [],
   "source": []
  },
  {
   "cell_type": "markdown",
   "id": "ce4ccfc3",
   "metadata": {},
   "source": [
    "Write a function safe_divide(a,b) that performs a/b and handles division by zero using try–except.\n",
    " Print \"Division by zero\" if b = 0.\n",
    "Input Format:\n",
    " Two integers a b.\n",
    "Output Format:\n",
    " Result or error message.\n",
    "Example:\n",
    "Input: 10 0  \n",
    "Output: Division by zero\n"
   ]
  },
  {
   "cell_type": "code",
   "execution_count": null,
   "id": "ffbc14a9",
   "metadata": {},
   "outputs": [],
   "source": []
  },
  {
   "cell_type": "markdown",
   "id": "d2163454",
   "metadata": {},
   "source": [
    "Create a base class Shape with a method area() that returns 0.\n",
    " Create subclasses:\n",
    "Rectangle(w,h) → area = w × h\n",
    "\n",
    "\n",
    "Circle(r) → area = π × r²\n",
    "\n",
    "\n",
    "Read shape type and parameters, then print area (rounded to 2 decimals).\n",
    "Input Format 1:\n",
    "Rectangle 5 10\n",
    "\n",
    "Output Format 1:\n",
    "Area: 50.00\n",
    "\n",
    "\n",
    "Input Format 2:\n",
    "Circle 7\n",
    "\n",
    "Output Format 2:\n",
    "Area: 153.94\n"
   ]
  },
  {
   "cell_type": "code",
   "execution_count": null,
   "id": "11e97c50",
   "metadata": {},
   "outputs": [],
   "source": []
  },
  {
   "cell_type": "markdown",
   "id": "2c7df349",
   "metadata": {},
   "source": [
    "Find and print the longest word in a given sentence (if tie, print first one).\n",
    "Input Format:\n",
    " One line string\n",
    "Output Format:\n",
    " Longest word\n",
    "Example:\n",
    "Input: Python programming is enjoyable\n",
    "Output: programming\n"
   ]
  },
  {
   "cell_type": "code",
   "execution_count": null,
   "id": "2c47ba98",
   "metadata": {},
   "outputs": [],
   "source": []
  },
  {
   "cell_type": "markdown",
   "id": "f7ece80e",
   "metadata": {},
   "source": [
    "A number is called strong if the sum of the factorial of its digits equals the number itself.\n",
    " Example: 145 = 1! + 4! + 5!\n",
    "Input Format:\n",
    " Single integer\n",
    "Output Format:\n",
    " \"Strong Number\" or \"Not Strong Number\"\n",
    "Example:\n",
    "Input: 145\n",
    "Output: Strong Number\n"
   ]
  },
  {
   "cell_type": "code",
   "execution_count": null,
   "id": "e50406e7",
   "metadata": {},
   "outputs": [],
   "source": []
  }
 ],
 "metadata": {
  "kernelspec": {
   "display_name": "base",
   "language": "python",
   "name": "python3"
  },
  "language_info": {
   "codemirror_mode": {
    "name": "ipython",
    "version": 3
   },
   "file_extension": ".py",
   "mimetype": "text/x-python",
   "name": "python",
   "nbconvert_exporter": "python",
   "pygments_lexer": "ipython3",
   "version": "3.12.7"
  }
 },
 "nbformat": 4,
 "nbformat_minor": 5
}
