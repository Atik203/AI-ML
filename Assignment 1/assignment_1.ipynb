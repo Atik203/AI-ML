{
 "cells": [
  {
   "cell_type": "markdown",
   "id": "a8a05d40",
   "metadata": {},
   "source": [
    "Using filter() and lambda, extract even numbers from a given list.\n",
    "Input Format:\n",
    "Integers separated by space.\n",
    "Output Format:\n",
    "List of even integers.\n",
    "Example:\n",
    "Input: 5 6 7 8 9 10  \n",
    "Output: [6, 8, 10]\n"
   ]
  },
  {
   "cell_type": "code",
   "execution_count": 3,
   "id": "ff1e4d48",
   "metadata": {},
   "outputs": [
    {
     "name": "stdout",
     "output_type": "stream",
     "text": [
      "[6, 8, 10]\n"
     ]
    }
   ],
   "source": [
    "ip = input()\n",
    "nums_str = ip.split() \n",
    "nums = list(map(int, nums_str))\n",
    "even_nums = list(filter(lambda x: x % 2 == 0, nums))\n",
    "print(even_nums)"
   ]
  },
  {
   "cell_type": "markdown",
   "id": "ce4ccfc3",
   "metadata": {},
   "source": [
    "Write a function safe_divide(a,b) that performs a/b and handles division by zero using try–except.\n",
    " Print \"Division by zero\" if b = 0.\n",
    "Input Format:\n",
    " Two integers a b.\n",
    "Output Format:\n",
    " Result or error message.\n",
    "Example:\n",
    "Input: 10 0  \n",
    "Output: Division by zero\n"
   ]
  },
  {
   "cell_type": "code",
   "execution_count": null,
   "id": "ffbc14a9",
   "metadata": {},
   "outputs": [
    {
     "name": "stdout",
     "output_type": "stream",
     "text": [
      "Division by zero\n"
     ]
    }
   ],
   "source": [
    "\n",
    "def safe_divide(a, b):\n",
    "    try:\n",
    "        return a / b\n",
    "    except ZeroDivisionError:\n",
    "        return \"Division by zero\"\n",
    "\n",
    "ip =  input()\n",
    "a, b = map(int, ip.split())\n",
    "print(safe_divide(a, b))    \n"
   ]
  },
  {
   "cell_type": "markdown",
   "id": "d2163454",
   "metadata": {},
   "source": [
    "Create a base class Shape with a method area() that returns 0.\n",
    " Create subclasses:\n",
    "Rectangle(w,h) → area = w × h\n",
    "\n",
    "\n",
    "Circle(r) → area = π × r²\n",
    "\n",
    "\n",
    "Read shape type and parameters, then print area (rounded to 2 decimals).\n",
    "Input Format 1:\n",
    "Rectangle 5 10\n",
    "\n",
    "Output Format 1:\n",
    "Area: 50.00\n",
    "\n",
    "\n",
    "Input Format 2:\n",
    "Circle 7\n",
    "\n",
    "Output Format 2:\n",
    "Area: 153.94\n"
   ]
  },
  {
   "cell_type": "code",
   "execution_count": 1,
   "id": "11e97c50",
   "metadata": {},
   "outputs": [
    {
     "ename": "IndexError",
     "evalue": "list index out of range",
     "output_type": "error",
     "traceback": [
      "\u001b[1;31m---------------------------------------------------------------------------\u001b[0m",
      "\u001b[1;31mIndexError\u001b[0m                                Traceback (most recent call last)",
      "Cell \u001b[1;32mIn[1], line 26\u001b[0m\n\u001b[0;32m     24\u001b[0m ip \u001b[38;5;241m=\u001b[39m \u001b[38;5;28minput\u001b[39m()\n\u001b[0;32m     25\u001b[0m data \u001b[38;5;241m=\u001b[39m ip\u001b[38;5;241m.\u001b[39msplit()\n\u001b[1;32m---> 26\u001b[0m shape_type \u001b[38;5;241m=\u001b[39m data[\u001b[38;5;241m0\u001b[39m]\n\u001b[0;32m     28\u001b[0m \u001b[38;5;28;01mif\u001b[39;00m shape_type\u001b[38;5;241m.\u001b[39mlower() \u001b[38;5;241m==\u001b[39m \u001b[38;5;124m\"\u001b[39m\u001b[38;5;124mrectangle\u001b[39m\u001b[38;5;124m\"\u001b[39m:\n\u001b[0;32m     29\u001b[0m     w \u001b[38;5;241m=\u001b[39m \u001b[38;5;28mfloat\u001b[39m(data[\u001b[38;5;241m1\u001b[39m])\n",
      "\u001b[1;31mIndexError\u001b[0m: list index out of range"
     ]
    }
   ],
   "source": [
    "import math\n",
    "class Shape:\n",
    "    def area(self):\n",
    "        return 0\n",
    "\n",
    "\n",
    "class Rectangle(Shape):\n",
    "    def __init__(self, width, height):\n",
    "        self.width = width\n",
    "        self.height = height\n",
    "\n",
    "    def area(self):\n",
    "        return self.width * self.height\n",
    "\n",
    "\n",
    "class Circle(Shape):\n",
    "    def __init__(self, radius):\n",
    "        self.radius = radius\n",
    "\n",
    "    def area(self):\n",
    "        return math.pi * (self.radius**2)\n",
    "\n",
    "\n",
    "ip = input()\n",
    "data = ip.split()\n",
    "shape_type = data[0]\n",
    "\n",
    "if shape_type.lower() == \"rectangle\":\n",
    "    w = float(data[1])\n",
    "    h = float(data[2])\n",
    "    shape = Rectangle(w, h)\n",
    "elif shape_type.lower() == \"circle\":\n",
    "    r = float(data[1])\n",
    "    shape = Circle(r)\n",
    "else:\n",
    "    shape = Shape()\n",
    "\n",
    "print(f\"Area: {shape.area():.2f}\")"
   ]
  },
  {
   "cell_type": "markdown",
   "id": "2c7df349",
   "metadata": {},
   "source": [
    "Find and print the longest word in a given sentence (if tie, print first one).\n",
    "Input Format:\n",
    " One line string\n",
    "Output Format:\n",
    " Longest word\n",
    "Example:\n",
    "Input: Python programming is enjoyable\n",
    "Output: programming\n"
   ]
  },
  {
   "cell_type": "code",
   "execution_count": 13,
   "id": "2c47ba98",
   "metadata": {},
   "outputs": [
    {
     "name": "stdout",
     "output_type": "stream",
     "text": [
      "alhgladfjl\n"
     ]
    }
   ],
   "source": [
    "ip = input()\n",
    "words = ip.split()\n",
    "longest_word = words[0]\n",
    "for word in words:\n",
    "    if len(word) > len(longest_word):\n",
    "        longest_word = word\n",
    "print(longest_word)"
   ]
  },
  {
   "cell_type": "markdown",
   "id": "f7ece80e",
   "metadata": {},
   "source": [
    "A number is called strong if the sum of the factorial of its digits equals the number itself.\n",
    " Example: 145 = 1! + 4! + 5!\n",
    "Input Format:\n",
    " Single integer\n",
    "Output Format:\n",
    " \"Strong Number\" or \"Not Strong Number\"\n",
    "Example:\n",
    "Input: 145\n",
    "Output: Strong Number\n"
   ]
  },
  {
   "cell_type": "code",
   "execution_count": null,
   "id": "e50406e7",
   "metadata": {},
   "outputs": [
    {
     "name": "stdout",
     "output_type": "stream",
     "text": [
      "1\n",
      "4\n",
      "5\n",
      "Strong Number\n"
     ]
    }
   ],
   "source": [
    "def factorial(n):\n",
    "    if n == 0 or n == 1:\n",
    "        return 1\n",
    "    else:\n",
    "        return n * factorial(n - 1)\n",
    "\n",
    "def is_strong_number(num):\n",
    "    sum_of_factorials = 0\n",
    "    for digit in str(num):\n",
    "        sum_of_factorials += factorial(int(digit))\n",
    "    return sum_of_factorials == num\n",
    "\n",
    "ip = input()\n",
    "if is_strong_number(int(ip)):\n",
    "    print(\"Strong Number\")\n",
    "else:\n",
    "    print(\"Not Strong Number\")"
   ]
  }
 ],
 "metadata": {
  "kernelspec": {
   "display_name": "base",
   "language": "python",
   "name": "python3"
  },
  "language_info": {
   "codemirror_mode": {
    "name": "ipython",
    "version": 3
   },
   "file_extension": ".py",
   "mimetype": "text/x-python",
   "name": "python",
   "nbconvert_exporter": "python",
   "pygments_lexer": "ipython3",
   "version": "3.12.7"
  }
 },
 "nbformat": 4,
 "nbformat_minor": 5
}
