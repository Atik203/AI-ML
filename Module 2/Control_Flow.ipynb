{
 "cells": [
  {
   "cell_type": "markdown",
   "id": "12c505f5",
   "metadata": {},
   "source": [
    "# Control Flow"
   ]
  },
  {
   "cell_type": "code",
   "execution_count": 1,
   "id": "c50aaaca",
   "metadata": {},
   "outputs": [
    {
     "name": "stdout",
     "output_type": "stream",
     "text": [
      "It's raining\n"
     ]
    }
   ],
   "source": [
    "raining = True\n",
    "if raining:\n",
    "    print(\"It's raining\")\n",
    "else:\n",
    "    print(\"It's not raining\")    "
   ]
  },
  {
   "cell_type": "code",
   "execution_count": 13,
   "id": "0de45cbc",
   "metadata": {},
   "outputs": [
    {
     "name": "stdout",
     "output_type": "stream",
     "text": [
      "0 1 2 3 4 \n",
      "1 2 3 4 5 \n",
      "1 is odd\n",
      "3 is odd\n",
      "5 is odd\n",
      "7 is odd\n",
      "9 is odd\n",
      "10 20 30 40 50 "
     ]
    }
   ],
   "source": [
    "# Looping\n",
    "for i in range(5):\n",
    "    print(i, end=' ')\n",
    "\n",
    "print()  # for newline    \n",
    "    \n",
    "list = [1, 2, 3, 4, 5]\n",
    "for item in list:\n",
    "    print(item, end=' ')\n",
    "\n",
    "print()  # for newline    \n",
    "for i in range(1, 11, 2):\n",
    "    print(f\"{i} is odd\")\n",
    "\n",
    "list = [10, 20, 30, 40, 50]\n",
    "while list:\n",
    "    item = list.pop(0)\n",
    "    print(item, end=' ')"
   ]
  },
  {
   "cell_type": "code",
   "execution_count": 15,
   "id": "b06695fc",
   "metadata": {},
   "outputs": [
    {
     "name": "stdout",
     "output_type": "stream",
     "text": [
      "Min: 2\n",
      "Max: 5\n"
     ]
    }
   ],
   "source": [
    "# given 3 numbers, find the min and max and print them\n",
    "num = input(\"Enter 3 numbers separated by space: \")\n",
    "num_list = [int(x) for x in num.split()]\n",
    "print(\"Min:\", min(num_list))\n",
    "print(\"Max:\", max(num_list))"
   ]
  },
  {
   "cell_type": "code",
   "execution_count": 16,
   "id": "6dc2d110",
   "metadata": {},
   "outputs": [
    {
     "name": "stdout",
     "output_type": "stream",
     "text": [
      "Even: 2, Odd: 3, Negative: 2, Positive: 3\n"
     ]
    }
   ],
   "source": [
    "# Given n number, count even,odd,negative,positive\n",
    "n = int(input())\n",
    "list = [int(x) for x in input().split()]\n",
    "even = odd = negative = positive = 0\n",
    "for item in list:\n",
    "    if item % 2 == 0:\n",
    "        even += 1\n",
    "    else:\n",
    "        odd += 1\n",
    "    if item < 0:\n",
    "        negative += 1\n",
    "    elif item > 0:\n",
    "        positive += 1\n",
    "\n",
    "print(f\"Even: {even}, Odd: {odd}, Negative: {negative}, Positive: {positive}\")        \n"
   ]
  },
  {
   "cell_type": "code",
   "execution_count": 18,
   "id": "b3430b4a",
   "metadata": {},
   "outputs": [
    {
     "name": "stdout",
     "output_type": "stream",
     "text": [
      "1 0\n",
      "1 2 3\n"
     ]
    }
   ],
   "source": [
    "# Given n numbers, print the digit the separated by space\n",
    "# 2\n",
    "# 10\n",
    "# 3456 \n",
    "# output:\n",
    "# 1 0\n",
    "# 3 4 5 6\n",
    "\n",
    "n = int(input())\n",
    "for _ in range(n):\n",
    "    num = input()\n",
    "    print(' '.join(num))"
   ]
  },
  {
   "cell_type": "code",
   "execution_count": null,
   "id": "b41bc06d",
   "metadata": {},
   "outputs": [
    {
     "name": "stdout",
     "output_type": "stream",
     "text": [
      "5 "
     ]
    }
   ],
   "source": [
    "\n"
   ]
  }
 ],
 "metadata": {
  "kernelspec": {
   "display_name": "base",
   "language": "python",
   "name": "python3"
  },
  "language_info": {
   "codemirror_mode": {
    "name": "ipython",
    "version": 3
   },
   "file_extension": ".py",
   "mimetype": "text/x-python",
   "name": "python",
   "nbconvert_exporter": "python",
   "pygments_lexer": "ipython3",
   "version": "3.12.7"
  }
 },
 "nbformat": 4,
 "nbformat_minor": 5
}
