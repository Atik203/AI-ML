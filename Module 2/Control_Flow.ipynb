{
 "cells": [
  {
   "cell_type": "markdown",
   "id": "12c505f5",
   "metadata": {},
   "source": [
    "# Control Flow"
   ]
  },
  {
   "cell_type": "code",
   "execution_count": 1,
   "id": "c50aaaca",
   "metadata": {},
   "outputs": [
    {
     "name": "stdout",
     "output_type": "stream",
     "text": [
      "It's raining\n"
     ]
    }
   ],
   "source": [
    "raining = True\n",
    "if raining:\n",
    "    print(\"It's raining\")\n",
    "else:\n",
    "    print(\"It's not raining\")    "
   ]
  },
  {
   "cell_type": "code",
   "execution_count": null,
   "id": "0de45cbc",
   "metadata": {},
   "outputs": [
    {
     "name": "stdout",
     "output_type": "stream",
     "text": [
      "0 1 2 3 4 \n",
      "1 2 3 4 5 \n",
      "1 is odd\n",
      "3 is odd\n",
      "5 is odd\n",
      "7 is odd\n",
      "9 is odd\n"
     ]
    }
   ],
   "source": [
    "# Looping\n",
    "for i in range(5):\n",
    "    print(i, end=' ')\n",
    "\n",
    "print()  # for newline    \n",
    "    \n",
    "list = [1, 2, 3, 4, 5]\n",
    "for item in list:\n",
    "    print(item, end=' ')\n",
    "\n",
    "print()  # for newline    \n",
    "for i in range(1, 11, 2):\n",
    "    print(f\"{i} is odd\")"
   ]
  }
 ],
 "metadata": {
  "kernelspec": {
   "display_name": "base",
   "language": "python",
   "name": "python3"
  },
  "language_info": {
   "codemirror_mode": {
    "name": "ipython",
    "version": 3
   },
   "file_extension": ".py",
   "mimetype": "text/x-python",
   "name": "python",
   "nbconvert_exporter": "python",
   "pygments_lexer": "ipython3",
   "version": "3.12.7"
  }
 },
 "nbformat": 4,
 "nbformat_minor": 5
}
