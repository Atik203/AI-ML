{
 "cells": [
  {
   "cell_type": "code",
   "execution_count": 26,
   "id": "91aaa250",
   "metadata": {},
   "outputs": [
    {
     "name": "stdout",
     "output_type": "stream",
     "text": [
      "<class 'pandas.core.frame.DataFrame'>\n",
      "<class 'pandas.core.frame.DataFrame'>\n",
      "RangeIndex: 20 entries, 0 to 19\n",
      "Data columns (total 9 columns):\n",
      " #   Column                Non-Null Count  Dtype  \n",
      "---  ------                --------------  -----  \n",
      " 0   StudentID             20 non-null     object \n",
      " 1   FullName              20 non-null     object \n",
      " 2   Data Structure Marks  16 non-null     float64\n",
      " 3   Algorithm Marks       16 non-null     float64\n",
      " 4   Python Marks          15 non-null     float64\n",
      " 5   CompletionStatus      20 non-null     object \n",
      " 6   EnrollmentDate        20 non-null     object \n",
      " 7   Instructor            20 non-null     object \n",
      " 8   Location              20 non-null     object \n",
      "dtypes: float64(3), object(6)\n",
      "memory usage: 1.5+ KB\n",
      "None\n"
     ]
    },
    {
     "data": {
      "application/vnd.microsoft.datawrangler.viewer.v0+json": {
       "columns": [
        {
         "name": "index",
         "rawType": "int64",
         "type": "integer"
        },
        {
         "name": "StudentID",
         "rawType": "object",
         "type": "string"
        },
        {
         "name": "FullName",
         "rawType": "object",
         "type": "string"
        },
        {
         "name": "Data Structure Marks",
         "rawType": "float64",
         "type": "float"
        },
        {
         "name": "Algorithm Marks",
         "rawType": "float64",
         "type": "float"
        },
        {
         "name": "Python Marks",
         "rawType": "float64",
         "type": "float"
        },
        {
         "name": "CompletionStatus",
         "rawType": "object",
         "type": "string"
        },
        {
         "name": "EnrollmentDate",
         "rawType": "object",
         "type": "string"
        },
        {
         "name": "Instructor",
         "rawType": "object",
         "type": "string"
        },
        {
         "name": "Location",
         "rawType": "object",
         "type": "string"
        }
       ],
       "ref": "fabfbcdd-426e-4602-9a87-f9fcfe63a784",
       "rows": [
        [
         "0",
         "PH1001",
         "Alif Rahman",
         "85.0",
         "85.0",
         "88.0",
         "Completed",
         "2024-01-15",
         "Mr. Karim",
         "Dhaka"
        ],
        [
         "1",
         "PH1002",
         "Fatima Akhter",
         "92.0",
         "92.0",
         null,
         "In Progress",
         "2024-01-20",
         "Ms. Salma",
         "Chattogram"
        ],
        [
         "2",
         "PH1003",
         "Imran Hossain",
         "88.0",
         "88.0",
         "85.0",
         "Completed",
         "2024-02-10",
         "Mr. Karim",
         "Dhaka"
        ],
        [
         "3",
         "PH1004",
         "Jannatul Ferdous",
         "78.0",
         "78.0",
         "82.0",
         "Completed",
         "2024-02-12",
         "Ms. Salma",
         "Sylhet"
        ],
        [
         "4",
         "PH1005",
         "Kamal Uddin",
         null,
         null,
         "95.0",
         "In Progress",
         "2024-03-05",
         "Mr. Karim",
         "Chattogram"
        ]
       ],
       "shape": {
        "columns": 9,
        "rows": 5
       }
      },
      "text/html": [
       "<div>\n",
       "<style scoped>\n",
       "    .dataframe tbody tr th:only-of-type {\n",
       "        vertical-align: middle;\n",
       "    }\n",
       "\n",
       "    .dataframe tbody tr th {\n",
       "        vertical-align: top;\n",
       "    }\n",
       "\n",
       "    .dataframe thead th {\n",
       "        text-align: right;\n",
       "    }\n",
       "</style>\n",
       "<table border=\"1\" class=\"dataframe\">\n",
       "  <thead>\n",
       "    <tr style=\"text-align: right;\">\n",
       "      <th></th>\n",
       "      <th>StudentID</th>\n",
       "      <th>FullName</th>\n",
       "      <th>Data Structure Marks</th>\n",
       "      <th>Algorithm Marks</th>\n",
       "      <th>Python Marks</th>\n",
       "      <th>CompletionStatus</th>\n",
       "      <th>EnrollmentDate</th>\n",
       "      <th>Instructor</th>\n",
       "      <th>Location</th>\n",
       "    </tr>\n",
       "  </thead>\n",
       "  <tbody>\n",
       "    <tr>\n",
       "      <th>0</th>\n",
       "      <td>PH1001</td>\n",
       "      <td>Alif Rahman</td>\n",
       "      <td>85.0</td>\n",
       "      <td>85.0</td>\n",
       "      <td>88.0</td>\n",
       "      <td>Completed</td>\n",
       "      <td>2024-01-15</td>\n",
       "      <td>Mr. Karim</td>\n",
       "      <td>Dhaka</td>\n",
       "    </tr>\n",
       "    <tr>\n",
       "      <th>1</th>\n",
       "      <td>PH1002</td>\n",
       "      <td>Fatima Akhter</td>\n",
       "      <td>92.0</td>\n",
       "      <td>92.0</td>\n",
       "      <td>NaN</td>\n",
       "      <td>In Progress</td>\n",
       "      <td>2024-01-20</td>\n",
       "      <td>Ms. Salma</td>\n",
       "      <td>Chattogram</td>\n",
       "    </tr>\n",
       "    <tr>\n",
       "      <th>2</th>\n",
       "      <td>PH1003</td>\n",
       "      <td>Imran Hossain</td>\n",
       "      <td>88.0</td>\n",
       "      <td>88.0</td>\n",
       "      <td>85.0</td>\n",
       "      <td>Completed</td>\n",
       "      <td>2024-02-10</td>\n",
       "      <td>Mr. Karim</td>\n",
       "      <td>Dhaka</td>\n",
       "    </tr>\n",
       "    <tr>\n",
       "      <th>3</th>\n",
       "      <td>PH1004</td>\n",
       "      <td>Jannatul Ferdous</td>\n",
       "      <td>78.0</td>\n",
       "      <td>78.0</td>\n",
       "      <td>82.0</td>\n",
       "      <td>Completed</td>\n",
       "      <td>2024-02-12</td>\n",
       "      <td>Ms. Salma</td>\n",
       "      <td>Sylhet</td>\n",
       "    </tr>\n",
       "    <tr>\n",
       "      <th>4</th>\n",
       "      <td>PH1005</td>\n",
       "      <td>Kamal Uddin</td>\n",
       "      <td>NaN</td>\n",
       "      <td>NaN</td>\n",
       "      <td>95.0</td>\n",
       "      <td>In Progress</td>\n",
       "      <td>2024-03-05</td>\n",
       "      <td>Mr. Karim</td>\n",
       "      <td>Chattogram</td>\n",
       "    </tr>\n",
       "  </tbody>\n",
       "</table>\n",
       "</div>"
      ],
      "text/plain": [
       "  StudentID          FullName  Data Structure Marks  Algorithm Marks  \\\n",
       "0    PH1001       Alif Rahman                  85.0             85.0   \n",
       "1    PH1002     Fatima Akhter                  92.0             92.0   \n",
       "2    PH1003     Imran Hossain                  88.0             88.0   \n",
       "3    PH1004  Jannatul Ferdous                  78.0             78.0   \n",
       "4    PH1005       Kamal Uddin                   NaN              NaN   \n",
       "\n",
       "   Python Marks CompletionStatus EnrollmentDate Instructor    Location  \n",
       "0          88.0        Completed     2024-01-15  Mr. Karim       Dhaka  \n",
       "1           NaN      In Progress     2024-01-20  Ms. Salma  Chattogram  \n",
       "2          85.0        Completed     2024-02-10  Mr. Karim       Dhaka  \n",
       "3          82.0        Completed     2024-02-12  Ms. Salma      Sylhet  \n",
       "4          95.0      In Progress     2024-03-05  Mr. Karim  Chattogram  "
      ]
     },
     "execution_count": 26,
     "metadata": {},
     "output_type": "execute_result"
    }
   ],
   "source": [
    "import pandas as pd\n",
    "import numpy as np\n",
    "df = pd.read_csv('student_data.csv')\n",
    "print(type(df))\n",
    "print(df.info())\n",
    "df.head()"
   ]
  },
  {
   "cell_type": "code",
   "execution_count": 27,
   "id": "310b0aaa",
   "metadata": {},
   "outputs": [
    {
     "name": "stdout",
     "output_type": "stream",
     "text": [
      "0    PH1001\n",
      "1    PH1002\n",
      "2    PH1003\n",
      "3    PH1004\n",
      "4    PH1005\n",
      "Name: StudentID, dtype: object\n"
     ]
    }
   ],
   "source": [
    "student_ids = df['StudentID']\n",
    "print(student_ids[:5])  # Display the first 5 student IDs"
   ]
  },
  {
   "cell_type": "code",
   "execution_count": 28,
   "id": "d7becad0",
   "metadata": {},
   "outputs": [
    {
     "data": {
      "application/vnd.microsoft.datawrangler.viewer.v0+json": {
       "columns": [
        {
         "name": "index",
         "rawType": "int64",
         "type": "integer"
        },
        {
         "name": "StudentID",
         "rawType": "object",
         "type": "string"
        },
        {
         "name": "FullName",
         "rawType": "object",
         "type": "string"
        },
        {
         "name": "Data Structure Marks",
         "rawType": "float64",
         "type": "float"
        },
        {
         "name": "Algorithm Marks",
         "rawType": "float64",
         "type": "float"
        },
        {
         "name": "Python Marks",
         "rawType": "float64",
         "type": "float"
        },
        {
         "name": "CompletionStatus",
         "rawType": "object",
         "type": "string"
        },
        {
         "name": "EnrollmentDate",
         "rawType": "object",
         "type": "string"
        },
        {
         "name": "Instructor",
         "rawType": "object",
         "type": "string"
        },
        {
         "name": "Location",
         "rawType": "object",
         "type": "string"
        }
       ],
       "ref": "e4933b7c-c5db-4c34-a1c5-40d9928e1a12",
       "rows": [
        [
         "0",
         "PH1001",
         "Alif Rahman",
         "85.0",
         "85.0",
         "88.0",
         "Completed",
         "2024-01-15",
         "Mr. Karim",
         "Dhaka"
        ],
        [
         "1",
         "PH1002",
         "Fatima Akhter",
         "92.0",
         "92.0",
         null,
         "In Progress",
         "2024-01-20",
         "Ms. Salma",
         "Chattogram"
        ],
        [
         "2",
         "PH1003",
         "Imran Hossain",
         "88.0",
         "88.0",
         "85.0",
         "Completed",
         "2024-02-10",
         "Mr. Karim",
         "Dhaka"
        ],
        [
         "3",
         "PH1004",
         "Jannatul Ferdous",
         "78.0",
         "78.0",
         "82.0",
         "Completed",
         "2024-02-12",
         "Ms. Salma",
         "Sylhet"
        ],
        [
         "4",
         "PH1005",
         "Kamal Uddin",
         null,
         null,
         "95.0",
         "In Progress",
         "2024-03-05",
         "Mr. Karim",
         "Chattogram"
        ]
       ],
       "shape": {
        "columns": 9,
        "rows": 5
       }
      },
      "text/html": [
       "<div>\n",
       "<style scoped>\n",
       "    .dataframe tbody tr th:only-of-type {\n",
       "        vertical-align: middle;\n",
       "    }\n",
       "\n",
       "    .dataframe tbody tr th {\n",
       "        vertical-align: top;\n",
       "    }\n",
       "\n",
       "    .dataframe thead th {\n",
       "        text-align: right;\n",
       "    }\n",
       "</style>\n",
       "<table border=\"1\" class=\"dataframe\">\n",
       "  <thead>\n",
       "    <tr style=\"text-align: right;\">\n",
       "      <th></th>\n",
       "      <th>StudentID</th>\n",
       "      <th>FullName</th>\n",
       "      <th>Data Structure Marks</th>\n",
       "      <th>Algorithm Marks</th>\n",
       "      <th>Python Marks</th>\n",
       "      <th>CompletionStatus</th>\n",
       "      <th>EnrollmentDate</th>\n",
       "      <th>Instructor</th>\n",
       "      <th>Location</th>\n",
       "    </tr>\n",
       "  </thead>\n",
       "  <tbody>\n",
       "    <tr>\n",
       "      <th>0</th>\n",
       "      <td>PH1001</td>\n",
       "      <td>Alif Rahman</td>\n",
       "      <td>85.0</td>\n",
       "      <td>85.0</td>\n",
       "      <td>88.0</td>\n",
       "      <td>Completed</td>\n",
       "      <td>2024-01-15</td>\n",
       "      <td>Mr. Karim</td>\n",
       "      <td>Dhaka</td>\n",
       "    </tr>\n",
       "    <tr>\n",
       "      <th>1</th>\n",
       "      <td>PH1002</td>\n",
       "      <td>Fatima Akhter</td>\n",
       "      <td>92.0</td>\n",
       "      <td>92.0</td>\n",
       "      <td>NaN</td>\n",
       "      <td>In Progress</td>\n",
       "      <td>2024-01-20</td>\n",
       "      <td>Ms. Salma</td>\n",
       "      <td>Chattogram</td>\n",
       "    </tr>\n",
       "    <tr>\n",
       "      <th>2</th>\n",
       "      <td>PH1003</td>\n",
       "      <td>Imran Hossain</td>\n",
       "      <td>88.0</td>\n",
       "      <td>88.0</td>\n",
       "      <td>85.0</td>\n",
       "      <td>Completed</td>\n",
       "      <td>2024-02-10</td>\n",
       "      <td>Mr. Karim</td>\n",
       "      <td>Dhaka</td>\n",
       "    </tr>\n",
       "    <tr>\n",
       "      <th>3</th>\n",
       "      <td>PH1004</td>\n",
       "      <td>Jannatul Ferdous</td>\n",
       "      <td>78.0</td>\n",
       "      <td>78.0</td>\n",
       "      <td>82.0</td>\n",
       "      <td>Completed</td>\n",
       "      <td>2024-02-12</td>\n",
       "      <td>Ms. Salma</td>\n",
       "      <td>Sylhet</td>\n",
       "    </tr>\n",
       "    <tr>\n",
       "      <th>4</th>\n",
       "      <td>PH1005</td>\n",
       "      <td>Kamal Uddin</td>\n",
       "      <td>NaN</td>\n",
       "      <td>NaN</td>\n",
       "      <td>95.0</td>\n",
       "      <td>In Progress</td>\n",
       "      <td>2024-03-05</td>\n",
       "      <td>Mr. Karim</td>\n",
       "      <td>Chattogram</td>\n",
       "    </tr>\n",
       "  </tbody>\n",
       "</table>\n",
       "</div>"
      ],
      "text/plain": [
       "  StudentID          FullName  Data Structure Marks  Algorithm Marks  \\\n",
       "0    PH1001       Alif Rahman                  85.0             85.0   \n",
       "1    PH1002     Fatima Akhter                  92.0             92.0   \n",
       "2    PH1003     Imran Hossain                  88.0             88.0   \n",
       "3    PH1004  Jannatul Ferdous                  78.0             78.0   \n",
       "4    PH1005       Kamal Uddin                   NaN              NaN   \n",
       "\n",
       "   Python Marks CompletionStatus EnrollmentDate Instructor    Location  \n",
       "0          88.0        Completed     2024-01-15  Mr. Karim       Dhaka  \n",
       "1           NaN      In Progress     2024-01-20  Ms. Salma  Chattogram  \n",
       "2          85.0        Completed     2024-02-10  Mr. Karim       Dhaka  \n",
       "3          82.0        Completed     2024-02-12  Ms. Salma      Sylhet  \n",
       "4          95.0      In Progress     2024-03-05  Mr. Karim  Chattogram  "
      ]
     },
     "execution_count": 28,
     "metadata": {},
     "output_type": "execute_result"
    }
   ],
   "source": [
    "\n",
    "excel = pd.read_excel('phitron_student_marks.xlsx')\n",
    "excel.head()"
   ]
  },
  {
   "cell_type": "code",
   "execution_count": 29,
   "id": "b1eeb4cc",
   "metadata": {},
   "outputs": [
    {
     "data": {
      "application/vnd.microsoft.datawrangler.viewer.v0+json": {
       "columns": [
        {
         "name": "index",
         "rawType": "int64",
         "type": "integer"
        },
        {
         "name": "StudentID",
         "rawType": "object",
         "type": "string"
        },
        {
         "name": "FullName",
         "rawType": "object",
         "type": "string"
        },
        {
         "name": "Data Structure Marks",
         "rawType": "float64",
         "type": "float"
        },
        {
         "name": "Algorithm Marks",
         "rawType": "float64",
         "type": "float"
        },
        {
         "name": "Python Marks",
         "rawType": "float64",
         "type": "float"
        },
        {
         "name": "CompletionStatus",
         "rawType": "object",
         "type": "string"
        },
        {
         "name": "EnrollmentDate",
         "rawType": "object",
         "type": "string"
        },
        {
         "name": "Instructor",
         "rawType": "object",
         "type": "string"
        },
        {
         "name": "Location",
         "rawType": "object",
         "type": "string"
        }
       ],
       "ref": "f8645235-958a-4706-820d-9b96deeb4176",
       "rows": [
        [
         "0",
         "PH1001",
         "Alif Rahman",
         "85.0",
         "85.0",
         "88.0",
         "Completed",
         "2024-01-15",
         "Mr. Karim",
         "Dhaka"
        ],
        [
         "1",
         "PH1002",
         "Fatima Akhter",
         "92.0",
         "92.0",
         null,
         "In Progress",
         "2024-01-20",
         "Ms. Salma",
         "Chattogram"
        ],
        [
         "2",
         "PH1003",
         "Imran Hossain",
         "88.0",
         "88.0",
         "85.0",
         "Completed",
         "2024-02-10",
         "Mr. Karim",
         "Dhaka"
        ],
        [
         "3",
         "PH1004",
         "Jannatul Ferdous",
         "78.0",
         "78.0",
         "82.0",
         "Completed",
         "2024-02-12",
         "Ms. Salma",
         "Sylhet"
        ],
        [
         "4",
         "PH1005",
         "Kamal Uddin",
         null,
         null,
         "95.0",
         "In Progress",
         "2024-03-05",
         "Mr. Karim",
         "Chattogram"
        ]
       ],
       "shape": {
        "columns": 9,
        "rows": 5
       }
      },
      "text/html": [
       "<div>\n",
       "<style scoped>\n",
       "    .dataframe tbody tr th:only-of-type {\n",
       "        vertical-align: middle;\n",
       "    }\n",
       "\n",
       "    .dataframe tbody tr th {\n",
       "        vertical-align: top;\n",
       "    }\n",
       "\n",
       "    .dataframe thead th {\n",
       "        text-align: right;\n",
       "    }\n",
       "</style>\n",
       "<table border=\"1\" class=\"dataframe\">\n",
       "  <thead>\n",
       "    <tr style=\"text-align: right;\">\n",
       "      <th></th>\n",
       "      <th>StudentID</th>\n",
       "      <th>FullName</th>\n",
       "      <th>Data Structure Marks</th>\n",
       "      <th>Algorithm Marks</th>\n",
       "      <th>Python Marks</th>\n",
       "      <th>CompletionStatus</th>\n",
       "      <th>EnrollmentDate</th>\n",
       "      <th>Instructor</th>\n",
       "      <th>Location</th>\n",
       "    </tr>\n",
       "  </thead>\n",
       "  <tbody>\n",
       "    <tr>\n",
       "      <th>0</th>\n",
       "      <td>PH1001</td>\n",
       "      <td>Alif Rahman</td>\n",
       "      <td>85.0</td>\n",
       "      <td>85.0</td>\n",
       "      <td>88.0</td>\n",
       "      <td>Completed</td>\n",
       "      <td>2024-01-15</td>\n",
       "      <td>Mr. Karim</td>\n",
       "      <td>Dhaka</td>\n",
       "    </tr>\n",
       "    <tr>\n",
       "      <th>1</th>\n",
       "      <td>PH1002</td>\n",
       "      <td>Fatima Akhter</td>\n",
       "      <td>92.0</td>\n",
       "      <td>92.0</td>\n",
       "      <td>NaN</td>\n",
       "      <td>In Progress</td>\n",
       "      <td>2024-01-20</td>\n",
       "      <td>Ms. Salma</td>\n",
       "      <td>Chattogram</td>\n",
       "    </tr>\n",
       "    <tr>\n",
       "      <th>2</th>\n",
       "      <td>PH1003</td>\n",
       "      <td>Imran Hossain</td>\n",
       "      <td>88.0</td>\n",
       "      <td>88.0</td>\n",
       "      <td>85.0</td>\n",
       "      <td>Completed</td>\n",
       "      <td>2024-02-10</td>\n",
       "      <td>Mr. Karim</td>\n",
       "      <td>Dhaka</td>\n",
       "    </tr>\n",
       "    <tr>\n",
       "      <th>3</th>\n",
       "      <td>PH1004</td>\n",
       "      <td>Jannatul Ferdous</td>\n",
       "      <td>78.0</td>\n",
       "      <td>78.0</td>\n",
       "      <td>82.0</td>\n",
       "      <td>Completed</td>\n",
       "      <td>2024-02-12</td>\n",
       "      <td>Ms. Salma</td>\n",
       "      <td>Sylhet</td>\n",
       "    </tr>\n",
       "    <tr>\n",
       "      <th>4</th>\n",
       "      <td>PH1005</td>\n",
       "      <td>Kamal Uddin</td>\n",
       "      <td>NaN</td>\n",
       "      <td>NaN</td>\n",
       "      <td>95.0</td>\n",
       "      <td>In Progress</td>\n",
       "      <td>2024-03-05</td>\n",
       "      <td>Mr. Karim</td>\n",
       "      <td>Chattogram</td>\n",
       "    </tr>\n",
       "  </tbody>\n",
       "</table>\n",
       "</div>"
      ],
      "text/plain": [
       "  StudentID          FullName  Data Structure Marks  Algorithm Marks  \\\n",
       "0    PH1001       Alif Rahman                  85.0             85.0   \n",
       "1    PH1002     Fatima Akhter                  92.0             92.0   \n",
       "2    PH1003     Imran Hossain                  88.0             88.0   \n",
       "3    PH1004  Jannatul Ferdous                  78.0             78.0   \n",
       "4    PH1005       Kamal Uddin                   NaN              NaN   \n",
       "\n",
       "   Python Marks CompletionStatus EnrollmentDate Instructor    Location  \n",
       "0          88.0        Completed     2024-01-15  Mr. Karim       Dhaka  \n",
       "1           NaN      In Progress     2024-01-20  Ms. Salma  Chattogram  \n",
       "2          85.0        Completed     2024-02-10  Mr. Karim       Dhaka  \n",
       "3          82.0        Completed     2024-02-12  Ms. Salma      Sylhet  \n",
       "4          95.0      In Progress     2024-03-05  Mr. Karim  Chattogram  "
      ]
     },
     "execution_count": 29,
     "metadata": {},
     "output_type": "execute_result"
    }
   ],
   "source": [
    "\n",
    "parquet = pd.read_parquet('students.parquet')\n",
    "parquet.head()"
   ]
  },
  {
   "cell_type": "code",
   "execution_count": 30,
   "id": "d30d3046",
   "metadata": {},
   "outputs": [
    {
     "data": {
      "application/vnd.microsoft.datawrangler.viewer.v0+json": {
       "columns": [
        {
         "name": "index",
         "rawType": "int64",
         "type": "integer"
        },
        {
         "name": "StudentID",
         "rawType": "object",
         "type": "string"
        },
        {
         "name": "FullName",
         "rawType": "object",
         "type": "string"
        },
        {
         "name": "Data Structure Marks",
         "rawType": "int64",
         "type": "integer"
        },
        {
         "name": "Algorithm Marks",
         "rawType": "int64",
         "type": "integer"
        },
        {
         "name": "Python Marks",
         "rawType": "int64",
         "type": "integer"
        }
       ],
       "ref": "f0009338-1a5b-4de1-9539-1f4bf987e2f8",
       "rows": [
        [
         "0",
         "PH1001",
         "Alif Rahman",
         "85",
         "85",
         "88"
        ],
        [
         "1",
         "PH1002",
         "Fatima Akhter",
         "92",
         "92",
         "90"
        ],
        [
         "2",
         "PH1004",
         "Jannatul Ferdous",
         "78",
         "78",
         "82"
        ]
       ],
       "shape": {
        "columns": 5,
        "rows": 3
       }
      },
      "text/html": [
       "<div>\n",
       "<style scoped>\n",
       "    .dataframe tbody tr th:only-of-type {\n",
       "        vertical-align: middle;\n",
       "    }\n",
       "\n",
       "    .dataframe tbody tr th {\n",
       "        vertical-align: top;\n",
       "    }\n",
       "\n",
       "    .dataframe thead th {\n",
       "        text-align: right;\n",
       "    }\n",
       "</style>\n",
       "<table border=\"1\" class=\"dataframe\">\n",
       "  <thead>\n",
       "    <tr style=\"text-align: right;\">\n",
       "      <th></th>\n",
       "      <th>StudentID</th>\n",
       "      <th>FullName</th>\n",
       "      <th>Data Structure Marks</th>\n",
       "      <th>Algorithm Marks</th>\n",
       "      <th>Python Marks</th>\n",
       "    </tr>\n",
       "  </thead>\n",
       "  <tbody>\n",
       "    <tr>\n",
       "      <th>0</th>\n",
       "      <td>PH1001</td>\n",
       "      <td>Alif Rahman</td>\n",
       "      <td>85</td>\n",
       "      <td>85</td>\n",
       "      <td>88</td>\n",
       "    </tr>\n",
       "    <tr>\n",
       "      <th>1</th>\n",
       "      <td>PH1002</td>\n",
       "      <td>Fatima Akhter</td>\n",
       "      <td>92</td>\n",
       "      <td>92</td>\n",
       "      <td>90</td>\n",
       "    </tr>\n",
       "    <tr>\n",
       "      <th>2</th>\n",
       "      <td>PH1004</td>\n",
       "      <td>Jannatul Ferdous</td>\n",
       "      <td>78</td>\n",
       "      <td>78</td>\n",
       "      <td>82</td>\n",
       "    </tr>\n",
       "  </tbody>\n",
       "</table>\n",
       "</div>"
      ],
      "text/plain": [
       "  StudentID          FullName  Data Structure Marks  Algorithm Marks  \\\n",
       "0    PH1001       Alif Rahman                    85               85   \n",
       "1    PH1002     Fatima Akhter                    92               92   \n",
       "2    PH1004  Jannatul Ferdous                    78               78   \n",
       "\n",
       "   Python Marks  \n",
       "0            88  \n",
       "1            90  \n",
       "2            82  "
      ]
     },
     "execution_count": 30,
     "metadata": {},
     "output_type": "execute_result"
    }
   ],
   "source": [
    "json = pd.read_json('data.json')\n",
    "json.head()"
   ]
  },
  {
   "cell_type": "code",
   "execution_count": 31,
   "id": "b8ecf7d5",
   "metadata": {},
   "outputs": [
    {
     "data": {
      "application/vnd.microsoft.datawrangler.viewer.v0+json": {
       "columns": [
        {
         "name": "index",
         "rawType": "int64",
         "type": "integer"
        },
        {
         "name": "StudentID",
         "rawType": "object",
         "type": "string"
        },
        {
         "name": "FullName",
         "rawType": "object",
         "type": "string"
        },
        {
         "name": "Data Structure Marks",
         "rawType": "float64",
         "type": "float"
        },
        {
         "name": "Algorithm Marks",
         "rawType": "float64",
         "type": "float"
        },
        {
         "name": "Python Marks",
         "rawType": "float64",
         "type": "float"
        },
        {
         "name": "CompletionStatus",
         "rawType": "object",
         "type": "string"
        },
        {
         "name": "EnrollmentDate",
         "rawType": "object",
         "type": "string"
        },
        {
         "name": "Instructor",
         "rawType": "object",
         "type": "string"
        },
        {
         "name": "Location",
         "rawType": "object",
         "type": "string"
        }
       ],
       "ref": "e29a92e7-d449-4026-8a4d-340accf14b86",
       "rows": [
        [
         "15",
         "PH1016",
         "Ziaur Rahman",
         "94.0",
         "94.0",
         null,
         "In Progress",
         "2024-08-21",
         "Ms. Salma",
         "Chattogram"
        ],
        [
         "16",
         "PH1017",
         "Afsana Mimi",
         "90.0",
         "90.0",
         "93.0",
         "Completed",
         "2025-09-01",
         "Mr. Karim",
         "Dhaka"
        ],
        [
         "17",
         "PH1018",
         "Babul Ahmed",
         "88.0",
         "88.0",
         "85.0",
         "Completed",
         "2025-09-05",
         "Ms. Salma",
         "Sylhet"
        ],
        [
         "18",
         "PH1019",
         "Faria Rahman",
         null,
         null,
         null,
         "Not Started",
         "2025-09-15",
         "Mr. David",
         "Chattogram"
        ],
        [
         "19",
         "PH1020",
         "Nasir Khan",
         "86.0",
         "86.0",
         "89.0",
         "Completed",
         "2025-10-02",
         "Ms. Salma",
         "Dhaka"
        ]
       ],
       "shape": {
        "columns": 9,
        "rows": 5
       }
      },
      "text/html": [
       "<div>\n",
       "<style scoped>\n",
       "    .dataframe tbody tr th:only-of-type {\n",
       "        vertical-align: middle;\n",
       "    }\n",
       "\n",
       "    .dataframe tbody tr th {\n",
       "        vertical-align: top;\n",
       "    }\n",
       "\n",
       "    .dataframe thead th {\n",
       "        text-align: right;\n",
       "    }\n",
       "</style>\n",
       "<table border=\"1\" class=\"dataframe\">\n",
       "  <thead>\n",
       "    <tr style=\"text-align: right;\">\n",
       "      <th></th>\n",
       "      <th>StudentID</th>\n",
       "      <th>FullName</th>\n",
       "      <th>Data Structure Marks</th>\n",
       "      <th>Algorithm Marks</th>\n",
       "      <th>Python Marks</th>\n",
       "      <th>CompletionStatus</th>\n",
       "      <th>EnrollmentDate</th>\n",
       "      <th>Instructor</th>\n",
       "      <th>Location</th>\n",
       "    </tr>\n",
       "  </thead>\n",
       "  <tbody>\n",
       "    <tr>\n",
       "      <th>15</th>\n",
       "      <td>PH1016</td>\n",
       "      <td>Ziaur Rahman</td>\n",
       "      <td>94.0</td>\n",
       "      <td>94.0</td>\n",
       "      <td>NaN</td>\n",
       "      <td>In Progress</td>\n",
       "      <td>2024-08-21</td>\n",
       "      <td>Ms. Salma</td>\n",
       "      <td>Chattogram</td>\n",
       "    </tr>\n",
       "    <tr>\n",
       "      <th>16</th>\n",
       "      <td>PH1017</td>\n",
       "      <td>Afsana Mimi</td>\n",
       "      <td>90.0</td>\n",
       "      <td>90.0</td>\n",
       "      <td>93.0</td>\n",
       "      <td>Completed</td>\n",
       "      <td>2025-09-01</td>\n",
       "      <td>Mr. Karim</td>\n",
       "      <td>Dhaka</td>\n",
       "    </tr>\n",
       "    <tr>\n",
       "      <th>17</th>\n",
       "      <td>PH1018</td>\n",
       "      <td>Babul Ahmed</td>\n",
       "      <td>88.0</td>\n",
       "      <td>88.0</td>\n",
       "      <td>85.0</td>\n",
       "      <td>Completed</td>\n",
       "      <td>2025-09-05</td>\n",
       "      <td>Ms. Salma</td>\n",
       "      <td>Sylhet</td>\n",
       "    </tr>\n",
       "    <tr>\n",
       "      <th>18</th>\n",
       "      <td>PH1019</td>\n",
       "      <td>Faria Rahman</td>\n",
       "      <td>NaN</td>\n",
       "      <td>NaN</td>\n",
       "      <td>NaN</td>\n",
       "      <td>Not Started</td>\n",
       "      <td>2025-09-15</td>\n",
       "      <td>Mr. David</td>\n",
       "      <td>Chattogram</td>\n",
       "    </tr>\n",
       "    <tr>\n",
       "      <th>19</th>\n",
       "      <td>PH1020</td>\n",
       "      <td>Nasir Khan</td>\n",
       "      <td>86.0</td>\n",
       "      <td>86.0</td>\n",
       "      <td>89.0</td>\n",
       "      <td>Completed</td>\n",
       "      <td>2025-10-02</td>\n",
       "      <td>Ms. Salma</td>\n",
       "      <td>Dhaka</td>\n",
       "    </tr>\n",
       "  </tbody>\n",
       "</table>\n",
       "</div>"
      ],
      "text/plain": [
       "   StudentID      FullName  Data Structure Marks  Algorithm Marks  \\\n",
       "15    PH1016  Ziaur Rahman                  94.0             94.0   \n",
       "16    PH1017   Afsana Mimi                  90.0             90.0   \n",
       "17    PH1018   Babul Ahmed                  88.0             88.0   \n",
       "18    PH1019  Faria Rahman                   NaN              NaN   \n",
       "19    PH1020    Nasir Khan                  86.0             86.0   \n",
       "\n",
       "    Python Marks CompletionStatus EnrollmentDate Instructor    Location  \n",
       "15           NaN      In Progress     2024-08-21  Ms. Salma  Chattogram  \n",
       "16          93.0        Completed     2025-09-01  Mr. Karim       Dhaka  \n",
       "17          85.0        Completed     2025-09-05  Ms. Salma      Sylhet  \n",
       "18           NaN      Not Started     2025-09-15  Mr. David  Chattogram  \n",
       "19          89.0        Completed     2025-10-02  Ms. Salma       Dhaka  "
      ]
     },
     "execution_count": 31,
     "metadata": {},
     "output_type": "execute_result"
    }
   ],
   "source": [
    "df.tail()"
   ]
  },
  {
   "cell_type": "code",
   "execution_count": 32,
   "id": "24690021",
   "metadata": {},
   "outputs": [
    {
     "name": "stdout",
     "output_type": "stream",
     "text": [
      "['StudentID' 'FullName' 'Data Structure Marks' 'Algorithm Marks'\n",
      " 'Python Marks' 'CompletionStatus' 'EnrollmentDate' 'Instructor'\n",
      " 'Location']\n"
     ]
    }
   ],
   "source": [
    "col = np.array(df.columns)\n",
    "print(col)"
   ]
  },
  {
   "cell_type": "code",
   "execution_count": 33,
   "id": "6df236e9",
   "metadata": {},
   "outputs": [
    {
     "data": {
      "application/vnd.microsoft.datawrangler.viewer.v0+json": {
       "columns": [
        {
         "name": "index",
         "rawType": "int64",
         "type": "integer"
        },
        {
         "name": "StudentID",
         "rawType": "object",
         "type": "string"
        },
        {
         "name": "FullName",
         "rawType": "object",
         "type": "string"
        },
        {
         "name": "Data Structure Marks",
         "rawType": "float64",
         "type": "float"
        },
        {
         "name": "Algorithm Marks",
         "rawType": "float64",
         "type": "float"
        },
        {
         "name": "Python Marks",
         "rawType": "float64",
         "type": "float"
        },
        {
         "name": "CompletionStatus",
         "rawType": "object",
         "type": "string"
        },
        {
         "name": "EnrollmentDate",
         "rawType": "object",
         "type": "string"
        },
        {
         "name": "Instructor",
         "rawType": "object",
         "type": "string"
        },
        {
         "name": "Location",
         "rawType": "object",
         "type": "string"
        }
       ],
       "ref": "cc2e442b-db4f-4909-aaae-1f4c1511d1ed",
       "rows": [
        [
         "1",
         "PH1002",
         "Fatima Akhter",
         "92.0",
         "92.0",
         null,
         "In Progress",
         "2024-01-20",
         "Ms. Salma",
         "Chattogram"
        ],
        [
         "0",
         "PH1001",
         "Alif Rahman",
         "85.0",
         "85.0",
         "88.0",
         "Completed",
         "2024-01-15",
         "Mr. Karim",
         "Dhaka"
        ],
        [
         "8",
         "PH1009",
         "Omar Faruq",
         "72.0",
         "72.0",
         "76.0",
         "Completed",
         "2024-05-16",
         "Mr. David",
         "Dhaka"
        ],
        [
         "3",
         "PH1004",
         "Jannatul Ferdous",
         "78.0",
         "78.0",
         "82.0",
         "Completed",
         "2024-02-12",
         "Ms. Salma",
         "Sylhet"
        ],
        [
         "14",
         "PH1015",
         "Wahiduzzaman",
         "86.0",
         "86.0",
         "84.0",
         "Completed",
         "2024-08-18",
         "Mr. Karim",
         "Dhaka"
        ]
       ],
       "shape": {
        "columns": 9,
        "rows": 5
       }
      },
      "text/html": [
       "<div>\n",
       "<style scoped>\n",
       "    .dataframe tbody tr th:only-of-type {\n",
       "        vertical-align: middle;\n",
       "    }\n",
       "\n",
       "    .dataframe tbody tr th {\n",
       "        vertical-align: top;\n",
       "    }\n",
       "\n",
       "    .dataframe thead th {\n",
       "        text-align: right;\n",
       "    }\n",
       "</style>\n",
       "<table border=\"1\" class=\"dataframe\">\n",
       "  <thead>\n",
       "    <tr style=\"text-align: right;\">\n",
       "      <th></th>\n",
       "      <th>StudentID</th>\n",
       "      <th>FullName</th>\n",
       "      <th>Data Structure Marks</th>\n",
       "      <th>Algorithm Marks</th>\n",
       "      <th>Python Marks</th>\n",
       "      <th>CompletionStatus</th>\n",
       "      <th>EnrollmentDate</th>\n",
       "      <th>Instructor</th>\n",
       "      <th>Location</th>\n",
       "    </tr>\n",
       "  </thead>\n",
       "  <tbody>\n",
       "    <tr>\n",
       "      <th>1</th>\n",
       "      <td>PH1002</td>\n",
       "      <td>Fatima Akhter</td>\n",
       "      <td>92.0</td>\n",
       "      <td>92.0</td>\n",
       "      <td>NaN</td>\n",
       "      <td>In Progress</td>\n",
       "      <td>2024-01-20</td>\n",
       "      <td>Ms. Salma</td>\n",
       "      <td>Chattogram</td>\n",
       "    </tr>\n",
       "    <tr>\n",
       "      <th>0</th>\n",
       "      <td>PH1001</td>\n",
       "      <td>Alif Rahman</td>\n",
       "      <td>85.0</td>\n",
       "      <td>85.0</td>\n",
       "      <td>88.0</td>\n",
       "      <td>Completed</td>\n",
       "      <td>2024-01-15</td>\n",
       "      <td>Mr. Karim</td>\n",
       "      <td>Dhaka</td>\n",
       "    </tr>\n",
       "    <tr>\n",
       "      <th>8</th>\n",
       "      <td>PH1009</td>\n",
       "      <td>Omar Faruq</td>\n",
       "      <td>72.0</td>\n",
       "      <td>72.0</td>\n",
       "      <td>76.0</td>\n",
       "      <td>Completed</td>\n",
       "      <td>2024-05-16</td>\n",
       "      <td>Mr. David</td>\n",
       "      <td>Dhaka</td>\n",
       "    </tr>\n",
       "    <tr>\n",
       "      <th>3</th>\n",
       "      <td>PH1004</td>\n",
       "      <td>Jannatul Ferdous</td>\n",
       "      <td>78.0</td>\n",
       "      <td>78.0</td>\n",
       "      <td>82.0</td>\n",
       "      <td>Completed</td>\n",
       "      <td>2024-02-12</td>\n",
       "      <td>Ms. Salma</td>\n",
       "      <td>Sylhet</td>\n",
       "    </tr>\n",
       "    <tr>\n",
       "      <th>14</th>\n",
       "      <td>PH1015</td>\n",
       "      <td>Wahiduzzaman</td>\n",
       "      <td>86.0</td>\n",
       "      <td>86.0</td>\n",
       "      <td>84.0</td>\n",
       "      <td>Completed</td>\n",
       "      <td>2024-08-18</td>\n",
       "      <td>Mr. Karim</td>\n",
       "      <td>Dhaka</td>\n",
       "    </tr>\n",
       "  </tbody>\n",
       "</table>\n",
       "</div>"
      ],
      "text/plain": [
       "   StudentID          FullName  Data Structure Marks  Algorithm Marks  \\\n",
       "1     PH1002     Fatima Akhter                  92.0             92.0   \n",
       "0     PH1001       Alif Rahman                  85.0             85.0   \n",
       "8     PH1009        Omar Faruq                  72.0             72.0   \n",
       "3     PH1004  Jannatul Ferdous                  78.0             78.0   \n",
       "14    PH1015      Wahiduzzaman                  86.0             86.0   \n",
       "\n",
       "    Python Marks CompletionStatus EnrollmentDate Instructor    Location  \n",
       "1            NaN      In Progress     2024-01-20  Ms. Salma  Chattogram  \n",
       "0           88.0        Completed     2024-01-15  Mr. Karim       Dhaka  \n",
       "8           76.0        Completed     2024-05-16  Mr. David       Dhaka  \n",
       "3           82.0        Completed     2024-02-12  Ms. Salma      Sylhet  \n",
       "14          84.0        Completed     2024-08-18  Mr. Karim       Dhaka  "
      ]
     },
     "execution_count": 33,
     "metadata": {},
     "output_type": "execute_result"
    }
   ],
   "source": [
    "df.sample(5)"
   ]
  },
  {
   "cell_type": "code",
   "execution_count": 34,
   "id": "61b48150",
   "metadata": {},
   "outputs": [
    {
     "data": {
      "application/vnd.microsoft.datawrangler.viewer.v0+json": {
       "columns": [
        {
         "name": "index",
         "rawType": "object",
         "type": "string"
        },
        {
         "name": "Data Structure Marks",
         "rawType": "float64",
         "type": "float"
        },
        {
         "name": "Algorithm Marks",
         "rawType": "float64",
         "type": "float"
        },
        {
         "name": "Python Marks",
         "rawType": "float64",
         "type": "float"
        }
       ],
       "ref": "d86b0988-9748-4ae5-a473-cefdb005ebe0",
       "rows": [
        [
         "count",
         "16.0",
         "16.0",
         "15.0"
        ],
        [
         "mean",
         "84.0",
         "84.0",
         "85.66666666666667"
        ],
        [
         "std",
         "6.501281924871945",
         "6.501281924871945",
         "5.394000194219323"
        ],
        [
         "min",
         "72.0",
         "72.0",
         "76.0"
        ],
        [
         "25%",
         "79.5",
         "79.5",
         "83.0"
        ],
        [
         "50%",
         "85.5",
         "85.5",
         "85.0"
        ],
        [
         "75%",
         "88.25",
         "88.25",
         "88.5"
        ],
        [
         "max",
         "94.0",
         "94.0",
         "95.0"
        ]
       ],
       "shape": {
        "columns": 3,
        "rows": 8
       }
      },
      "text/html": [
       "<div>\n",
       "<style scoped>\n",
       "    .dataframe tbody tr th:only-of-type {\n",
       "        vertical-align: middle;\n",
       "    }\n",
       "\n",
       "    .dataframe tbody tr th {\n",
       "        vertical-align: top;\n",
       "    }\n",
       "\n",
       "    .dataframe thead th {\n",
       "        text-align: right;\n",
       "    }\n",
       "</style>\n",
       "<table border=\"1\" class=\"dataframe\">\n",
       "  <thead>\n",
       "    <tr style=\"text-align: right;\">\n",
       "      <th></th>\n",
       "      <th>Data Structure Marks</th>\n",
       "      <th>Algorithm Marks</th>\n",
       "      <th>Python Marks</th>\n",
       "    </tr>\n",
       "  </thead>\n",
       "  <tbody>\n",
       "    <tr>\n",
       "      <th>count</th>\n",
       "      <td>16.000000</td>\n",
       "      <td>16.000000</td>\n",
       "      <td>15.000000</td>\n",
       "    </tr>\n",
       "    <tr>\n",
       "      <th>mean</th>\n",
       "      <td>84.000000</td>\n",
       "      <td>84.000000</td>\n",
       "      <td>85.666667</td>\n",
       "    </tr>\n",
       "    <tr>\n",
       "      <th>std</th>\n",
       "      <td>6.501282</td>\n",
       "      <td>6.501282</td>\n",
       "      <td>5.394000</td>\n",
       "    </tr>\n",
       "    <tr>\n",
       "      <th>min</th>\n",
       "      <td>72.000000</td>\n",
       "      <td>72.000000</td>\n",
       "      <td>76.000000</td>\n",
       "    </tr>\n",
       "    <tr>\n",
       "      <th>25%</th>\n",
       "      <td>79.500000</td>\n",
       "      <td>79.500000</td>\n",
       "      <td>83.000000</td>\n",
       "    </tr>\n",
       "    <tr>\n",
       "      <th>50%</th>\n",
       "      <td>85.500000</td>\n",
       "      <td>85.500000</td>\n",
       "      <td>85.000000</td>\n",
       "    </tr>\n",
       "    <tr>\n",
       "      <th>75%</th>\n",
       "      <td>88.250000</td>\n",
       "      <td>88.250000</td>\n",
       "      <td>88.500000</td>\n",
       "    </tr>\n",
       "    <tr>\n",
       "      <th>max</th>\n",
       "      <td>94.000000</td>\n",
       "      <td>94.000000</td>\n",
       "      <td>95.000000</td>\n",
       "    </tr>\n",
       "  </tbody>\n",
       "</table>\n",
       "</div>"
      ],
      "text/plain": [
       "       Data Structure Marks  Algorithm Marks  Python Marks\n",
       "count             16.000000        16.000000     15.000000\n",
       "mean              84.000000        84.000000     85.666667\n",
       "std                6.501282         6.501282      5.394000\n",
       "min               72.000000        72.000000     76.000000\n",
       "25%               79.500000        79.500000     83.000000\n",
       "50%               85.500000        85.500000     85.000000\n",
       "75%               88.250000        88.250000     88.500000\n",
       "max               94.000000        94.000000     95.000000"
      ]
     },
     "execution_count": 34,
     "metadata": {},
     "output_type": "execute_result"
    }
   ],
   "source": [
    "# statistical summary\n",
    "df.describe()"
   ]
  },
  {
   "cell_type": "code",
   "execution_count": 35,
   "id": "805d4c47",
   "metadata": {},
   "outputs": [
    {
     "name": "stdout",
     "output_type": "stream",
     "text": [
      "   ID     Name  Score\n",
      "0   1    Alice     85\n",
      "1   2      Bob     90\n",
      "2   3  Charlie     78\n"
     ]
    }
   ],
   "source": [
    "# 2d list to DataFrame\n",
    "data = [\n",
    "    [1, 'Alice', 85],\n",
    "    [2, 'Bob', 90],\n",
    "    [3, 'Charlie', 78]\n",
    "]\n",
    "list_df = pd.DataFrame(data, columns=['ID', 'Name', 'Score'])\n",
    "print(list_df)"
   ]
  }
 ],
 "metadata": {
  "kernelspec": {
   "display_name": "base",
   "language": "python",
   "name": "python3"
  },
  "language_info": {
   "codemirror_mode": {
    "name": "ipython",
    "version": 3
   },
   "file_extension": ".py",
   "mimetype": "text/x-python",
   "name": "python",
   "nbconvert_exporter": "python",
   "pygments_lexer": "ipython3",
   "version": "3.12.7"
  }
 },
 "nbformat": 4,
 "nbformat_minor": 5
}
