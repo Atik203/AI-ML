{
 "cells": [
  {
   "cell_type": "code",
   "execution_count": 1,
   "metadata": {},
   "outputs": [
    {
     "name": "stdout",
     "output_type": "stream",
     "text": [
      "Brand: Apple, Model: iPhone 13, Price: $999\n",
      "Brand: Samsung, Model: Galaxy S21, Price: $799\n"
     ]
    }
   ],
   "source": [
    "# Object-Oriented Programming (OOP)\n",
    "# Class and Object\n",
    "\n",
    "class Phone:\n",
    "    def __init__(self, brand, model, price):\n",
    "        self.brand = brand\n",
    "        self.model = model\n",
    "        self.price = price\n",
    "\n",
    "    def show_info(self):\n",
    "        return f\"Brand: {self.brand}, Model: {self.model}, Price: ${self.price}\"\n",
    "    \n",
    "\n",
    "iphone = Phone(\"Apple\", \"iPhone 13\", 999)\n",
    "samsung = Phone(\"Samsung\", \"Galaxy S21\", 799)\n",
    "\n",
    "print(iphone.show_info())\n",
    "print(samsung.show_info())    \n"
   ]
  },
  {
   "cell_type": "code",
   "execution_count": null,
   "id": "ee243d36",
   "metadata": {},
   "outputs": [],
   "source": [
    "# Inheritance\n",
    "class Smartphone:\n",
    "    def __init__(self, brand, model, price, os):\n",
    "        self.brand = brand\n",
    "        self.model = model\n",
    "        self.price = price\n",
    "        self.os = os\n",
    "\n",
    "    def show_info(self):\n",
    "        return f\"Brand: {self.brand}, Model: {self.model}, Price: ${self.price}, OS: {self.os}\"\n",
    "    \n",
    "\n",
    "class AndroidPhone(Smartphone):\n",
    "    def __init__(self, brand, model, price, os, google_services):\n",
    "        super().__init__(brand, model, price, os)\n",
    "        self.google_services = google_services\n",
    "\n",
    "    def show_info(self):\n",
    "        base_info = super().show_info()\n",
    "        return f\"{base_info}, Google Services: {self.google_services}\"\n",
    "\n",
    "class iPhone(Smartphone):\n",
    "    def __init__(self, brand, model, price, os, face_id):\n",
    "        super().__init__(brand, model, price, os)\n",
    "        self.face_id = face_id\n",
    "\n",
    "    def show_info(self):\n",
    "        base_info = super().show_info()\n",
    "        return f\"{base_info}, Face ID: {self.face_id}\"\n",
    "    \n",
    "# Example usage\n",
    "android_phone = AndroidPhone(\"Samsung\", \"Galaxy S21\", 799, \"Android\", True)\n",
    "iphone = iPhone(\"Apple\", \"iPhone 13\", 999, \"iOS\", True)\n",
    "print(android_phone.show_info())\n",
    "print(iphone.show_info())            \n",
    "    "
   ]
  }
 ],
 "metadata": {
  "kernelspec": {
   "display_name": "base",
   "language": "python",
   "name": "python3"
  },
  "language_info": {
   "codemirror_mode": {
    "name": "ipython",
    "version": 3
   },
   "file_extension": ".py",
   "mimetype": "text/x-python",
   "name": "python",
   "nbconvert_exporter": "python",
   "pygments_lexer": "ipython3",
   "version": "3.12.7"
  }
 },
 "nbformat": 4,
 "nbformat_minor": 5
}
