{
 "cells": [
  {
   "cell_type": "code",
   "execution_count": 1,
   "metadata": {},
   "outputs": [
    {
     "name": "stdout",
     "output_type": "stream",
     "text": [
      "Brand: Apple, Model: iPhone 13, Price: $999\n",
      "Brand: Samsung, Model: Galaxy S21, Price: $799\n"
     ]
    }
   ],
   "source": [
    "# Object-Oriented Programming (OOP)\n",
    "# Class and Object\n",
    "\n",
    "class Phone:\n",
    "    def __init__(self, brand, model, price):\n",
    "        self.brand = brand\n",
    "        self.model = model\n",
    "        self.price = price\n",
    "\n",
    "    def show_info(self):\n",
    "        return f\"Brand: {self.brand}, Model: {self.model}, Price: ${self.price}\"\n",
    "    \n",
    "\n",
    "iphone = Phone(\"Apple\", \"iPhone 13\", 999)\n",
    "samsung = Phone(\"Samsung\", \"Galaxy S21\", 799)\n",
    "\n",
    "print(iphone.show_info())\n",
    "print(samsung.show_info())    \n"
   ]
  },
  {
   "cell_type": "code",
   "execution_count": 2,
   "id": "ee243d36",
   "metadata": {},
   "outputs": [
    {
     "name": "stdout",
     "output_type": "stream",
     "text": [
      "Brand: Samsung, Model: Galaxy S21, Price: $799, OS: Android, Google Services: True\n",
      "Brand: Apple, Model: iPhone 13, Price: $999, OS: iOS, Face ID: True\n",
      "Brand: Google, Model: Pixel 6, Price: $599, OS: Android, Taking a photo with 50MP camera.\n"
     ]
    }
   ],
   "source": [
    "# Inheritance\n",
    "class Smartphone:\n",
    "    def __init__(self, brand, model, price, os):\n",
    "        self.brand = brand\n",
    "        self.model = model\n",
    "        self.price = price\n",
    "        self.os = os\n",
    "\n",
    "    def show_info(self):\n",
    "        return f\"Brand: {self.brand}, Model: {self.model}, Price: ${self.price}, OS: {self.os}\"\n",
    "    \n",
    "\n",
    "class AndroidPhone(Smartphone):\n",
    "    def __init__(self, brand, model, price, os, google_services):\n",
    "        super().__init__(brand, model, price, os)\n",
    "        self.google_services = google_services\n",
    "\n",
    "    def show_info(self):\n",
    "        base_info = super().show_info()\n",
    "        return f\"{base_info}, Google Services: {self.google_services}\"\n",
    "\n",
    "class iPhone(Smartphone):\n",
    "    def __init__(self, brand, model, price, os, face_id):\n",
    "        super().__init__(brand, model, price, os)\n",
    "        self.face_id = face_id\n",
    "\n",
    "    def show_info(self):\n",
    "        base_info = super().show_info()\n",
    "        return f\"{base_info}, Face ID: {self.face_id}\"\n",
    "    \n",
    "# Example usage\n",
    "android_phone = AndroidPhone(\"Samsung\", \"Galaxy S21\", 799, \"Android\", True)\n",
    "iphone = iPhone(\"Apple\", \"iPhone 13\", 999, \"iOS\", True)\n",
    "print(android_phone.show_info())\n",
    "print(iphone.show_info())               \n",
    "\n",
    "# multiple inheritance\n",
    "class Camera:\n",
    "    def __init__(self, megapixels):\n",
    "        self.megapixels = megapixels\n",
    "\n",
    "    def take_photo(self):\n",
    "        return f\"Taking a photo with {self.megapixels}MP camera.\"\n",
    "    \n",
    "\n",
    "class AdvancedSmartphone(Smartphone, Camera):\n",
    "    def __init__(self, brand, model, price, os, megapixels):\n",
    "        Smartphone.__init__(self, brand, model, price, os)\n",
    "        Camera.__init__(self, megapixels)\n",
    "\n",
    "    def show_info(self):\n",
    "        base_info = Smartphone.show_info(self)\n",
    "        camera_info = self.take_photo()\n",
    "        return f\"{base_info}, {camera_info}\"\n",
    "    \n",
    "# Example usage\n",
    "\n",
    "advanced_phone = AdvancedSmartphone(\"Google\", \"Pixel 6\", 599, \"Android\", 50)\n",
    "print(advanced_phone.show_info())            "
   ]
  },
  {
   "cell_type": "code",
   "execution_count": 3,
   "id": "61300dd7",
   "metadata": {},
   "outputs": [
    {
     "name": "stdout",
     "output_type": "stream",
     "text": [
      "Brand: Canon, Model: EOS 5D, Megapixels: 30MP, Lens Type: EF 24-70mm f/2.8L II USM\n",
      "Brand: Sony, Model: Alpha a7 III, Megapixels: 24MP, Sensor Size: Full Frame\n",
      "Brand: DJI, Model: Mavic Air 2, Megapixels: 48MP, Flight Time: 34 minutes\n"
     ]
    }
   ],
   "source": [
    "\n",
    "class DSLR(Camera):\n",
    "    def __init__(self, brand, model, megapixels, lens_type):\n",
    "        super().__init__(megapixels)\n",
    "        self.brand = brand\n",
    "        self.model = model\n",
    "        self.lens_type = lens_type\n",
    "\n",
    "    def show_info(self):\n",
    "        return f\"Brand: {self.brand}, Model: {self.model}, Megapixels: {self.megapixels}MP, Lens Type: {self.lens_type}\"\n",
    "    \n",
    "class Mirrorless(Camera):\n",
    "    def __init__(self, brand, model, megapixels, sensor_size):\n",
    "        super().__init__(megapixels)\n",
    "        self.brand = brand\n",
    "        self.model = model\n",
    "        self.sensor_size = sensor_size\n",
    "\n",
    "    def show_info(self):\n",
    "        return f\"Brand: {self.brand}, Model: {self.model}, Megapixels: {self.megapixels}MP, Sensor Size: {self.sensor_size}\"\n",
    "\n",
    "class Drone(Camera):\n",
    "    def __init__(self, brand, model, megapixels, flight_time):\n",
    "        super().__init__(megapixels)\n",
    "        self.brand = brand\n",
    "        self.model = model\n",
    "        self.flight_time = flight_time\n",
    "\n",
    "    def show_info(self):\n",
    "        return f\"Brand: {self.brand}, Model: {self.model}, Megapixels: {self.megapixels}MP, Flight Time: {self.flight_time} minutes\"        \n",
    "    \n",
    "\n",
    "# Example usage\n",
    "dslr = DSLR(\"Canon\", \"EOS 5D\", 30, \"EF 24-70mm f/2.8L II USM\")\n",
    "mirrorless = Mirrorless(\"Sony\", \"Alpha a7 III\", 24, \"Full Frame\")\n",
    "drone = Drone(\"DJI\", \"Mavic Air 2\", 48, 34)\n",
    "\n",
    "print(dslr.show_info())\n",
    "print(mirrorless.show_info())\n",
    "print(drone.show_info())        "
   ]
  },
  {
   "cell_type": "code",
   "execution_count": 4,
   "id": "e19b6b59",
   "metadata": {},
   "outputs": [
    {
     "name": "stdout",
     "output_type": "stream",
     "text": [
      "Current Balance: $1000\n",
      "Deposited: $500. New Balance: $1500\n",
      "Withdrew: $200. New Balance: $1300\n"
     ]
    }
   ],
   "source": [
    "# Encapsulation\n",
    "\n",
    "class BankAccount:\n",
    "    def __init__(self, account_number, balance):\n",
    "        self.__account_number = account_number  # Private attribute\n",
    "        self.__balance = balance  # Private attribute\n",
    "\n",
    "    def deposit(self, amount):\n",
    "        if amount > 0:\n",
    "            self.__balance += amount\n",
    "            return f\"Deposited: ${amount}. New Balance: ${self.__balance}\"\n",
    "        else:\n",
    "            return \"Deposit amount must be positive.\"\n",
    "\n",
    "    def withdraw(self, amount):\n",
    "        if 0 < amount <= self.__balance:\n",
    "            self.__balance -= amount\n",
    "            return f\"Withdrew: ${amount}. New Balance: ${self.__balance}\"\n",
    "        else:\n",
    "            return \"Insufficient funds or invalid withdrawal amount.\"\n",
    "\n",
    "    def get_balance(self):\n",
    "        return f\"Current Balance: ${self.__balance}\"\n",
    "    \n",
    "\n",
    "# Example usage\n",
    "account = BankAccount(\"123456789\", 1000)\n",
    "print(account.get_balance())\n",
    "print(account.deposit(500))\n",
    "print(account.withdraw(200))\n",
    "# print(account.__balance)  # This will raise an AttributeError due to encapsulation    "
   ]
  },
  {
   "cell_type": "code",
   "execution_count": 5,
   "id": "17cd127b",
   "metadata": {},
   "outputs": [
    {
     "name": "stdout",
     "output_type": "stream",
     "text": [
      "Rectangle Area: 50, Perimeter: 30\n",
      "Circle Area: 153.86, Perimeter: 43.96\n"
     ]
    }
   ],
   "source": [
    "# Abstraction\n",
    "from abc import ABC, abstractmethod\n",
    "class Shape(ABC):\n",
    "    @abstractmethod\n",
    "    def area(self):\n",
    "        pass\n",
    "\n",
    "    @abstractmethod\n",
    "    def perimeter(self):\n",
    "        pass\n",
    " \n",
    "class Rectangle(Shape):\n",
    "    def __init__(self, width, height):\n",
    "        self.width = width\n",
    "        self.height = height\n",
    "\n",
    "    def area(self):\n",
    "        return self.width * self.height\n",
    "\n",
    "    def perimeter(self):\n",
    "        return 2 * (self.width + self.height)\n",
    "    \n",
    "class Circle(Shape):\n",
    "    def __init__(self, radius):\n",
    "        self.radius = radius\n",
    "\n",
    "    def area(self):\n",
    "        return 3.14 * self.radius * self.radius\n",
    "\n",
    "    def perimeter(self):\n",
    "        return 2 * 3.14 * self.radius\n",
    "    \n",
    "\n",
    "# Example usage\n",
    "rectangle = Rectangle(10, 5)\n",
    "circle = Circle(7)\n",
    "\n",
    "print(f\"Rectangle Area: {rectangle.area()}, Perimeter: {rectangle.perimeter()}\")\n",
    "print(f\"Circle Area: {circle.area()}, Perimeter: {circle.perimeter()}\")             \n",
    "\n",
    "    "
   ]
  }
 ],
 "metadata": {
  "kernelspec": {
   "display_name": "base",
   "language": "python",
   "name": "python3"
  },
  "language_info": {
   "codemirror_mode": {
    "name": "ipython",
    "version": 3
   },
   "file_extension": ".py",
   "mimetype": "text/x-python",
   "name": "python",
   "nbconvert_exporter": "python",
   "pygments_lexer": "ipython3",
   "version": "3.12.7"
  }
 },
 "nbformat": 4,
 "nbformat_minor": 5
}
