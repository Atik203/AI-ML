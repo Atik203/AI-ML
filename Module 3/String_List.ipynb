{
 "cells": [
  {
   "cell_type": "code",
   "execution_count": null,
   "id": "75351a3d",
   "metadata": {},
   "outputs": [],
   "source": [
    "prompt = \"Please enter a string: \"\n",
    "message = \"\"\"\n",
    "This is a multi-line string.\n",
    "It can span multiple lines.\n",
    "\"\"\"\n",
    "\n"
   ]
  },
  {
   "cell_type": "markdown",
   "id": "abc382f4",
   "metadata": {},
   "source": [
    "## Indexing and Slicing Strings"
   ]
  },
  {
   "cell_type": "code",
   "execution_count": 2,
   "id": "864f51c1",
   "metadata": {},
   "outputs": [
    {
     "name": "stdout",
     "output_type": "stream",
     "text": [
      "H\n",
      "!\n",
      "Hello\n"
     ]
    }
   ],
   "source": [
    "## indexing and Slicing Strings\n",
    "my_string = \"Hello, World!\"\n",
    "print(my_string[0])      # First character\n",
    "print(my_string[-1])     # Last character\n",
    "print(my_string[0:5])  # First five characters"
   ]
  },
  {
   "cell_type": "code",
   "execution_count": null,
   "id": "cd3230c0",
   "metadata": {},
   "outputs": [],
   "source": [
    "## string methods\n",
    "s = \"hello world\"\n",
    "print(s.upper())        # Convert to uppercase\n",
    "print(s.capitalize())   # Capitalize first letter\n",
    "print(s.replace(\"world\", \"Python\"))  # Replace substring\n",
    "print(s.split())        # Split into a list of words\n",
    "print(s.find(\"world\"))  # Find substring index\n",
    "print(s.strip())        # Remove leading/trailing whitespace\n",
    "print(s.startswith(\"hello\"))  # Check if starts with substring\n",
    "print(s.endswith(\"world\"))    # Check if ends with substring\n",
    "print(s.count(\"o\"))   # Count occurrences of substring\n"
   ]
  }
 ],
 "metadata": {
  "kernelspec": {
   "display_name": "base",
   "language": "python",
   "name": "python3"
  },
  "language_info": {
   "codemirror_mode": {
    "name": "ipython",
    "version": 3
   },
   "file_extension": ".py",
   "mimetype": "text/x-python",
   "name": "python",
   "nbconvert_exporter": "python",
   "pygments_lexer": "ipython3",
   "version": "3.12.7"
  }
 },
 "nbformat": 4,
 "nbformat_minor": 5
}
